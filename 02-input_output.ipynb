{
 "cells": [
  {
   "cell_type": "raw",
   "id": "3a203398",
   "metadata": {},
   "source": [
    "---\n",
    "title: \"Variables, Types, and Operations\"\n",
    "teaching: 10\n",
    "exercises: 2\n",
    "output:\n",
    "  bookdown::html_document2:\n",
    "    keep_md: true\n",
    "---"
   ]
  },
  {
   "cell_type": "markdown",
   "id": "fec33fb8",
   "metadata": {},
   "source": [
    "\n",
    "[**Download Chapter notebook (ipynb)**](02-input_output.ipynb)\n",
    "\n",
    "[<span style=\"color: rgb(255, 0, 0);\">**Mandatory Lesson Feedback Survey**</span>](https://docs.google.com/forms/d/e/1FAIpQLSdr0capF7jloJhPH3Pki1B3LZoKOG16poOpuVJ7SL2LkwLHQA/viewform?pli=1)\n",
    "\n",
    "::::::::::::::::::::::::::::::::::::: questions\n",
    "\n",
    "- What are input and output (I/O) operations?\n",
    "- What do variables do?\n",
    "- Why are types and scopes of variables important?\n",
    "- What types of operations are used?\n",
    "\n",
    "::::::::::::::::::::::::::::::::::::::::::::::::\n",
    "\n",
    "::::::::::::::::::::::::::::::::::::: objectives\n",
    "\n",
    "- Understanding I/O operations\n",
    "- Build concepts of different types of variables\n",
    "- Learning about type conversions and scope\n",
    "- Understanding mathematical and logical operations\n",
    "::::::::::::::::::::::::::::::::::::::::::::::::\n",
    "\n",
    "<p align = \"center\">\n",
    "<iframe width=\"560\" height=\"315\" src=\"https://www.youtube.com/embed/Qr-UBp_AeDA\" title=\"YouTube video player\" frameborder=\"0\" allow=\"accelerometer; autoplay; clipboard-write; encrypted-media; gyroscope; picture-in-picture\" allowfullscreen></iframe>\n",
    "</p>\n",
    "<br>\n",
    "\n",
    "<p align = \"center\">\n",
    "<iframe width=\"560\" height=\"315\" src=\"https://www.youtube.com/embed/rCwBVf4_XjM\" title=\"YouTube video player\" frameborder=\"0\" allow=\"accelerometer; autoplay; clipboard-write; encrypted-media; gyroscope; picture-in-picture\" allowfullscreen></iframe>\n",
    "</p>\n",
    "<br>\n",
    "\n",
    "<p align = \"center\">\n",
    "<iframe width=\"560\" height=\"315\" src=\"https://www.youtube.com/embed/ht6MSOg0JeA\" title=\"YouTube video player\" frameborder=\"0\" allow=\"accelerometer; autoplay; clipboard-write; encrypted-media; gyroscope; picture-in-picture\" allowfullscreen></iframe>\n",
    "</p>\n",
    "<br>\n",
    "\n",
    "<p style='text-align: justify;'>\n",
    "In programming, we process data and produce outputs. When data is being processed, it is stored in memory so that it is readily available, and can therefore be subject to the processes we want to apply.\n",
    "</p>"
   ]
  },
  {
   "cell_type": "markdown",
   "id": "f03d0b98",
   "metadata": {},
   "source": [
    "<p style='text-align: justify;'>\n",
    "In this lesson, we will discuss how to handle data in Python. We will start by displaying data on the screen, and understand how to receive input from a user. We can then use these techniques to perform different mathematical and logical operations. We will also cover the fundamental principles employed every time we code in Python. It is imperative that you understand everything before moving on.\n",
    "</p>"
   ]
  },
  {
   "cell_type": "markdown",
   "id": "e63cdd6c",
   "metadata": {},
   "source": [
    "## I/O Operations {#operations}\n",
    "<p style='text-align: justify;'>\n",
    "In computer science, input or output operations refer to the communication between an information processing system such as a computer, and the outside world, which may be a user or even another computer. Such communications are more commonly known as *I/O operations*. In general, this 'outside world' may be loosely defined as anything that falls outside of the coding environment.\n",
    "</p>\n",
    "\n",
    "::::::::::::::::::::::::::::::::::::: callout\n",
    "## REMEMBER\n",
    "<p style='text-align: justify;'>\n",
    "Only what we define within the environment and what we store in the memory is directly controlled by our application. We may access or take control over other environments, however, these interactions are classified as I/O operations. An example of this is interacting with a file on our computer. While we have complete control over a file while working on it (e.g. reading from it or writing to it), the access to the file and the transmission of data is in fact controlled and managed not by the programming environment but by the operating system of the computer.\n",
    "</p>\n",
    "\n",
    ":::::::::::::::::::::::::::::::::::::"
   ]
  },
  {
   "cell_type": "markdown",
   "id": "ac37c6e2",
   "metadata": {},
   "source": [
    "In programming, I/O operations include, but are not limited to:\n",
    "\n",
    "* Displaying the results of a calculation\n",
    "\n",
    "* Requiring the user to enter a value\n",
    "\n",
    "* Writing or reading data to and from a file or a database\n",
    "\n",
    "* Downloading data from the Internet\n",
    "\n",
    "* Operating a hardware (such as a robot, for example)"
   ]
  },
  {
   "cell_type": "markdown",
   "id": "0aa97d16",
   "metadata": {},
   "source": [
    ":::::: prereq\n",
    "\n",
    "## Advanced Topic\n",
    "<p style='text-align: justify;'>\n",
    "If you are interested in learning more about I/O systems and how they are handled at operating system level, you might benefit from chapter 13 of [*Operating Systems Concepts, 10^th^ ed.*](https://os.ecci.ucr.ac.cr/slides/Abraham-Silberschatz-Operating-System-Concepts-10th-2018.pdf) by Abraham Silberschatz, Greg Gagne, and Peter Galvin.\n",
    "</p>\n",
    "\n",
    "::::::\n",
    "\n",
    "### **I/O Operations in Python**\n",
    "[**Input and Output**](https://docs.python.org/3/tutorial/inputoutput.html)\n",
    "\n",
    "<p style='text-align: justify;'>\n",
    "In this section, we learn about two fundamental methods of I/O operations in Python. We will be using these methods throughout the course, so it is essential that you feel comfortable with them and the way they work before moving on.\n",
    "</p>"
   ]
  },
  {
   "cell_type": "markdown",
   "id": "eed397df",
   "metadata": {},
   "source": [
    ":::::::::::::::::::::::::::::::::::::::::::::::: discussion\n",
    "### Producing an output {#sub:ProducingAnOutput}\n",
    "[**Print**](https://docs.python.org/3/library/functions.html\\#print)\n",
    "\n",
    "<p style='text-align: justify;'>\n",
    "The term ```output``` in reference to an application typically refers to data that has either been generated or manipulated by that application.\n",
    "</p>\n",
    "\n",
    "<p style='text-align: justify;'>\n",
    "For example; calculating the sum of two numbers. The action of calculating the sum is itself a [*mathematical operation*](#math_ops). The result of our calculation is called its ```output```. Once we obtain the result, we might want to save it in a file or display it on the screen, in which case we will be performing an I/O operation. *I/O operation*.\n",
    "</p>\n",
    "\n",
    "<p style='text-align: justify;'>\n",
    "The simplest and most frequently used method for generating output in almost every modern programming language is to display something on the screen. We recommend using Jupyter Notebooks to run our Python scripts, which defaults to displaying the output of a code cell beneath the code itself. We will start by calling a dedicated built-in function named <kbd>print()</kbd>.\n",
    "</p>\n",
    "\n",
    "::::::::::::::::::::::::::::::::::::: callout\n",
    "\n",
    "## REMEMBER\n",
    "\n",
    "<p style='text-align: justify;'>\n",
    "In programming, a ```function``` is essentially an isolated piece of code. It usually accepts input, *does* something to or with this, and produces ```output```. A function can process input, often using several operations in a particular sequence or configuration, and process the input to give a final output. In Python programming syntax, a pair of (typically round) parentheses follows a function, and these provide the function with the *input arguments* it needs when we *call* it, so that it can do what we intend, to our data. We will explore functions in more details in Basic Python 4: [Functions](06-functions.Rmd).\n",
    "</p>\n",
    "\n",
    ":::::::::::::::::::::::::::::::::::::\n",
    "\n",
    "<p style='text-align: justify;'>\n",
    "The <kbd>print()</kbd> function can take several inputs and performs different tasks. Its primary objective, however, is to take some values as input and display them on the screen. Here is how it works:\n",
    "</p>\n",
    "\n",
    "Suppose we want to display some text in the Terminal. To do so, we write the following into a cell of our Jupyter Notebook (or on the Terminal, a code editor or dedicated Integrated Development Environment (IDE)):\n",
    "\n",
    "```\n",
    "print('Welcome to L2D!!!')\n",
    "```\n",
    "<p style='text-align: justify;'>\n",
    "\n",
    "This is now a fully functioning Python program that we can run using the Python interpreter.\n",
    "</p>\n",
    "\n",
    "<p style='text-align: justify;'>\n",
    "If you are using an IDE (such as Mircosoft Visual Studio Code, for example) you must save the code in a file with the extension ```.py```, in order to execute your code using the internal tools provided by that IDE. The specifics of how you do so depend on the IDE that you are using.\n",
    "</p>\n",
    "\n",
    "<p style='text-align: justify;'>\n",
    "```.py``` Python scripts can also be executed manually. To do so, we open the Terminal in MacOS or Linux or the command prompt (CMD) in Windows and navigate to the directory where we saved the script.\n",
    "</p>\n",
    "\n",
    ":::::: prereq\n",
    "\n",
    "## NOTE\n",
    "<p style='text-align: justify;'>\n",
    "If you don't know how to navigate in the Terminal, see the example in section [How to use terminal environment?](#terminal) at the end of this chapter.\n",
    "</p>\n",
    "\n",
    "::::::\n",
    "\n",
    "Once in the correct directory, we run a script called ```script_a.py``` by typing ```python3 script_a.py``` in our Terminal as follows:\n",
    "\n",
    "```{bash}\n",
    "python3 script_a.py\n",
    "```\n",
    "\n",
    "<p style='text-align: justify;'>\n",
    "This will call the Python 3 interpreter to execute the code we wrote in ```script_a.py```. Once executed, we will see the output displayed in the Terminal window.\n",
    "</p>\n",
    "\n",
    "<p style='text-align: justify;'>\n",
    "In a Jupyter Notebook we can press the keyboard shortcut 'shift+enter' to execute the code in a cell. The output will be displayed below the code cell.\n",
    "</p>\n",
    "\n",
    "<p style='text-align: justify;'>\n",
    "You have now successfully written and executed your first program in Python.\n",
    "</p>\n",
    "\n",
    "::::::::::::::::::::::::::::::::::::::::::::::::\n",
    "\n",
    "::::::::::::::::::::::::::::::::::::: callout\n",
    "## REMEMBER\n",
    "\n",
    "<p style='text-align: justify;'>\n",
    "We know that <kbd>print()</kbd> is a *function* because it ends with a pair of parentheses, and it is written entirely in lowercase characters [PEP-8: Function Names](https://www.python.org/dev/peps/pep-0008/#function-names). Some IDEs change color when they encounter built-in functions, in order to signal to the user that the function is recognised, and available to use, and so that we don’t accidentally overwrite them. \n",
    "</p>\n",
    "\n",
    ":::::::::::::::::::::::::::::::::::::"
   ]
  },
  {
   "cell_type": "markdown",
   "id": "ca2db162",
   "metadata": {},
   "source": [
    "<p style='text-align: justify;'>\n",
    "We can pass more than a single value to the <kbd>print()</kbd> function, provided that each value is separated from another, using a comma. For instance, if we write the code below and run the script, the results would be as shown in *output*.\n",
    "</p>"
   ]
  },
  {
   "cell_type": "code",
   "execution_count": null,
   "id": "faf69238",
   "metadata": {},
   "outputs": [],
   "source": [
    "print('Hello', 'John')"
   ]
  },
  {
   "cell_type": "markdown",
   "id": "735f1bff",
   "metadata": {},
   "source": [
    "<p style='text-align: justify;'>\n",
    "Notice that there is a space between <span style=\"color: rgb(32, 121, 77);\">'Hello'</span> and <span style=\"color: rgb(32, 121, 77);\">'John'</span> even though we did not include a space in our text. This is the default behaviour of the <kbd>print()</kbd> function when it receives more than a single value (argument).\n",
    "</p>\n",
    "\n",
    "This default behaviour may be changed using a keyword argument called sep:"
   ]
  },
  {
   "cell_type": "code",
   "execution_count": null,
   "id": "bc5e4e26",
   "metadata": {},
   "outputs": [],
   "source": [
    "print('Hello', 'John', sep='')\n"
   ]
  },
  {
   "cell_type": "code",
   "execution_count": null,
   "id": "47ac4d1d",
   "metadata": {},
   "outputs": [],
   "source": [
    "print('Hello', 'John', sep='--')"
   ]
  },
  {
   "cell_type": "code",
   "execution_count": null,
   "id": "dee1f04d",
   "metadata": {
    "lines_to_next_cell": 0
   },
   "outputs": [],
   "source": [
    "print('Jane', 21, 'London', sep='.')"
   ]
  },
  {
   "cell_type": "markdown",
   "id": "c5e47506",
   "metadata": {},
   "source": []
  },
  {
   "cell_type": "markdown",
   "id": "de909ab8",
   "metadata": {},
   "source": [
    "![Explanation of a function call](fig/functionCall.png)\n",
    "\n",
    "::::::::::::::::::::::::::::::: challenge\n",
    "\n",
    "## Practice Exercise 1\n",
    "\n",
    "Write code that displays the following output:\n",
    "\n",
    ">**Protein Kinase C (Alpha subunit)**"
   ]
  },
  {
   "cell_type": "markdown",
   "id": "4c009d86",
   "metadata": {},
   "source": [
    "::::::::::::::::: solution\n",
    "\n",
    "## ANSWER"
   ]
  },
  {
   "cell_type": "code",
   "execution_count": null,
   "id": "77e6049a",
   "metadata": {},
   "outputs": [],
   "source": [
    "print('Protein Kinase C (Alpha subunit)')"
   ]
  },
  {
   "cell_type": "markdown",
   "id": "8e4eef05",
   "metadata": {},
   "source": [
    ":::::::::::::::::\n",
    "\n",
    ":::::::::::::::::::::::::::::::\n",
    "\n",
    "![Terminal window on a Linux computer](fig/prompt.png){#fig:terLinux}\n",
    "\n",
    "![Terminal window on a Mac](fig/MacPrompt.png){#fig:terMac}\n",
    "\n",
    ":::::::::::::::::::::::::::::::::::::::::::::::: discussion\n",
    "### Receiving an input\n",
    "[**Input**](https://docs.python.org/3/library/functions.html\\#input)\n",
    "\n",
    "<p style='text-align: justify;'>\n",
    "Inputs are I/O operations that involve receiving some data from the outside world. This might include reading the contents of a file, downloading something from the internet, or asking the user to enter a value.\n",
    "</p>\n",
    "\n",
    "<p style='text-align: justify;'>\n",
    "The simplest way to acquire an input is to ask the user to enter a value in the Terminal. To do so, we use a dedicated built-in function called <kbd>input()</kbd>.\n",
    "</p>\n",
    "\n",
    "::::::::::::::::::::::: callout\n",
    "## Note\n",
    "In a Unix system (Mac OS or Linux), a tilde (~) is an alias that is used to refer to a user's home directory.\n",
    ":::::::::::::::::::::::\n",
    "\n",
    "<p style='text-align: justify;'>\n",
    "This function takes a single *argument* called ```prompt```. Prompt is the text displayed in the Terminal to ask the user for an input. Figure [Terminal window on a Linux computer](#fig:terLinux) and [Terminal window on a Mac](#fig:terMac), illustrates a screen shot of an example PC's prompt, where it displays a user name (i.e. ```pouria```) followed by a tilde (~). A Terminal prompt may be different in each computer and operating system.\n",
    "</p>\n",
    "\n",
    "Here is how we implement the <kbd>input()</kbd> function:\n",
    "\n",
    "```\n",
    "input('Please enter your name: ')\n",
    "```\n",
    "\n",
    "which is exactly the same as:\n",
    "\n",
    "```\n",
    "input(prompt='Please enter your name: ')\n",
    "```\n",
    "\n",
    "If we save one of the above in a notebook and execute it, we will see:"
   ]
  },
  {
   "cell_type": "markdown",
   "id": "dce40270",
   "metadata": {},
   "source": [
    "```\n",
    "python3 script_b.py\n",
    "\n",
    "Please enter your name: _\n",
    "```\n",
    "\n",
    "<p style='text-align: justify;'>\n",
    "The Terminal cursor, displayed as an underscore in our example, will be in front of the prompt (i.e. ```'Please enter your name: '```) waiting for a response. Once it receives a response, it will proceed to run the rest of the code (if any), or terminate the execution.\n",
    "</p>\n",
    "\n",
    "<p style='text-align: justify;'>\n",
    "We may store the user's response in a variable. Variables are the topic of the next episode in this learning material, where we shall also review more examples on <kbd>input()</kbd> and how we can use it to produce results based on the responses we receive from the user.\n",
    "</p>\n",
    "\n",
    "::::::::::::::::::::::::::::::::::::::::::::::::"
   ]
  },
  {
   "cell_type": "markdown",
   "id": "6d0087da",
   "metadata": {},
   "source": [
    "::::::::::::::::::::::::::::::: callout\n",
    "\n",
    "## Remember\n",
    "<p style='text-align: justify;'>\n",
    "Python is an interpreted language; this means that the code we write is executed by the Python interpreter one line at a time. The <kbd>input()</kbd> function performs a *blocking* process. This means that the execution of the code by the Python interpreter is halted upon encountering an <kbd>input()</kbd> function until the user enters a value. Once a value is entered, the interpreter then proceeds to execute the next line.\n",
    "</p>\n",
    "\n",
    ":::::::::::::::::::::::::::::::\n",
    "\n",
    "::::::::::::::::::::::::::::::: challenge\n",
    "## Practice Exercise 2\n",
    "\n",
    "Write a script that asks the user to enter the name of a protein in the Terminal.\n",
    "\n",
    "::::::::::::::::::: solution\n",
    "## ANSWER\n",
    "\n",
    "```\n",
    "input('Please enter the name of a protein: ')\n",
    "```\n",
    "\n",
    ":::::::::::::::::::\n",
    ":::::::::::::::::::::::::::::::\n",
    "\n",
    "## Variables And Types {#varTypes}\n",
    "\n",
    "<p style='text-align: justify;'>\n",
    "\n",
    "Variables are a type of data container, that we can use to store data to memory. Each variable has three main types of attribute: *scope*, *name*, and *type*. *Scope* and *name* must be mutually unique. Starting with *name*, we will discuss each of these attributes in more details throughout this chapter.\n",
    "</p>\n",
    "\n",
    "### **Variable names** {#subsec:variableNames}\n",
    "[**PEP--8 Naming Conventions**](https://www.python.org/dev/peps/pep-0008/\\#naming-conventions)\n",
    "\n",
    "<p style='text-align: justify;'>\n",
    "The name that we give to a variable is, in fact, an alias for a location in the memory. You can think of it as a postbox, which is used as a substitute for an actual address. Similarly, we use variable names so we don't have to use the actual address to the location we want in the memory; because it would look something like this ```0x106fb8348```.\n",
    "</p>\n",
    "\n",
    "There are some relatively simple rules to follow when defining variable names, which ultimately boil down to:\n",
    "\n",
    "![](fig/variable_table.png)\n",
    "\n",
    "::::::::::::::::::::::: callout\n",
    "\n",
    "## Remember\n",
    "<p style='text-align: justify;'>\n",
    "We should never overwrite an existing, built-in definition or identifier (e.g. ```int``` or  ```print```). We will be learning many such definitions and identifiers as we progress through this course. Nonetheless, the Jupyter Notebook as well as any good IDE highlights syntaxes and built-in identifiers in different colours. In Jupyter, the default for built-in definitions is green. The exact colouring scheme depends on the IDE being used, and the selected theme.\n",
    "</p>\n",
    "\n",
    ":::::::::::::::::::::::\n",
    "\n",
    "Once a variable is defined, its value may be altered or reset:"
   ]
  },
  {
   "cell_type": "code",
   "execution_count": null,
   "id": "763edd92",
   "metadata": {},
   "outputs": [],
   "source": [
    "total_items = 2\n",
    "print(total_items)"
   ]
  },
  {
   "cell_type": "markdown",
   "id": "931b1730",
   "metadata": {},
   "source": [
    "In Python, variables containing integer numbers are referred to as ```int```, and those containing decimal numbers are referred to as ```float```."
   ]
  },
  {
   "cell_type": "code",
   "execution_count": null,
   "id": "79a2f081",
   "metadata": {},
   "outputs": [],
   "source": [
    "total_items = 3\n",
    "print(total_items)"
   ]
  },
  {
   "cell_type": "code",
   "execution_count": null,
   "id": "12c07298",
   "metadata": {},
   "outputs": [],
   "source": [
    "total_values = 3.2\n",
    "print(total_values)"
   ]
  },
  {
   "cell_type": "code",
   "execution_count": null,
   "id": "c1ff49b0",
   "metadata": {},
   "outputs": [],
   "source": [
    "temperature = 16.\n",
    "print(temperature)"
   ]
  },
  {
   "cell_type": "markdown",
   "id": "c3e22018",
   "metadata": {},
   "source": [
    "<p style='text-align: justify;'>\n",
    "Variables can contain data as characters as well; but to prevent Python from confusing them with meaningful commands, we use  quotation marks. So long as we remain consistent, _it doesn't matter whether we use single or double quotations_. These data are known as ```string``` or  ```str```:\n",
    "</p>"
   ]
  },
  {
   "cell_type": "code",
   "execution_count": null,
   "id": "c251290a",
   "metadata": {
    "lines_to_next_cell": 2
   },
   "outputs": [],
   "source": [
    "forename = 'John'\n",
    "surname = \"Doe\"\n",
    "\n",
    "\n",
    "print('Hi,', forename, surname)"
   ]
  },
  {
   "cell_type": "markdown",
   "id": "909f97ad",
   "metadata": {},
   "source": [
    "::::::::::::::::::::::::::::::: challenge\n",
    "\n",
    "## Practice Exercise 3 {#diy:enzyme}\n",
    "<p style='text-align: justify;'>\n",
    "Oxidised low-density lipoprotein (LDL) receptor 1 mediates the recognition, internalisation and degradation of oxidatively modified low-density lipoprotein by vascular endothelial cells. Using the [Universal Protein Resource](https://beta.uniprot.org) (UniProt) website, find this protein for humans, and identify:\n",
    "</p>\n",
    "\n",
    "* UniProt entry number.\n",
    "* Length of the protein (right at the top).\n",
    "* Gene name (right at the top).\n",
    "\n",
    "Store the information you retrieved, including the protein name, in within four separate variables.\n",
    "\n",
    "Display the values of these four variables in *one* line, and separate the items with three spaces, as follows:\n",
    "\n",
    "> ```Name   EntryNo   GeneName   Length```\n",
    "\n",
    "::::::::::::::: solution\n",
    "\n",
    "## ANSWER"
   ]
  },
  {
   "cell_type": "code",
   "execution_count": null,
   "id": "baadab62",
   "metadata": {},
   "outputs": [],
   "source": [
    "name = 'Oxidised low-density lipoprotein (LDL) receptor 1'\n",
    "\n",
    "uniprot_entry = 'P78380'\n",
    "\n",
    "gene_name = 'OLR1'\n",
    "\n",
    "length = 273\n",
    "\n",
    "print(name, uniprot_entry, gene_name, length, sep='   ')"
   ]
  },
  {
   "cell_type": "markdown",
   "id": "2e198516",
   "metadata": {},
   "source": [
    ":::::::::::::::\n",
    "\n",
    ":::::::::::::::::::::::::::::::\n",
    "\n",
    "::::::::::::::::::::::::::::::: challenge\n",
    "\n",
    "## Practice Exercise 4\n",
    "1. Write a Python code that upon execution, asks the user to enter the name of an enzyme and then stores the response in an appropriately named variable.\n",
    "\n",
    "2. Use the variable to display an output similar to the following:\n",
    "\n",
    "```ENZYME_NAME is an enzyme.```\n",
    "\n",
    "where ```ENZYME_NAME``` is the name of the enzyme entered in the prompt.\n",
    "\n",
    "3. Now modify your script to prompt the user to enter the number of amino acids in that enzyme. Store the value in another appropriately named variable.\n",
    "\n",
    "4. Alter the output of your script to display a report in the following format:\n",
    "\n",
    "```ENZYME_NAME is an enzyme containing a total number of AMINO_ACIDS} amino acids.```\n",
    "\n",
    "where ```AMINO_ACIDS``` is the number of amino acids.\n",
    "\n",
    "::::::::::::::: solution\n",
    "\n",
    "## ANSWER\n",
    "\n",
    "```\n",
    "enzyme = input('Please enter the name of an enzyme: ')\n",
    "\n",
    "print(enzyme, 'is an enzyme.')\n",
    "\n",
    "length = input('How many amino acids does the enzyme contain? ')\n",
    "\n",
    "print(enzyme, 'is an enzyme containing a total number of', length, 'amino acids.')\n",
    "\n",
    "```\n",
    "\n",
    ":::::::::::::::\n",
    "\n",
    ":::::::::::::::::::::::::::::::\n",
    "\n",
    "\n",
    "### **Variable Types** {#sec:varTyp}\n",
    "[**Built-in Types**](https://docs.python.org/3/library/stdtypes.html)\n",
    "\n",
    "When it comes to types, programming languages may be divided into two distinct categories:\n",
    "\n",
    ":::::::::::::::::::: checklist\n",
    "## Types\n",
    "\n",
    "- [x] **Statically typed** languages: these require the programmer to explicitly declare the type of each variable, and this type is checked at compile time.\n",
    "\n",
    "- [x] **Dynamically typed** languages: the type of the variable is determined at run time, and variables can change types on the fly. The programmer is not required to explicitly define the type of a variable: the language infers the type of the variable, once it is assigned data.\n",
    "\n",
    "<p style='text-align: justify;'>\n",
    "Python is a dynamically typed language, and falls into this second category. This means that, unlike statically typed languages, we rarely need to worry about the *type* definitions because in the majority of cases, Python takes care of them for us, and automatically decodes the type of data being stored in a variable, once it is defined by the user.\n",
    "</p>\n",
    "\n",
    "::::::::::::::::::::\n",
    "\n",
    "\n",
    "::::::::::::::::::::::: callout\n",
    "## Remember\n",
    "<p style='text-align: justify;'>\n",
    "In a dynamically typed language, it is the value of a variable that determines the type. This is because the types are determined on the fly by the Python interpreter as and when it encounters different variables and values.\n",
    "</p>\n",
    "\n",
    ":::::::::::::::::::::::\n",
    "\n",
    "::::::::::::::::::::::: prereq\n",
    "## Advanced Topic\n",
    "<p style='text-align: justify;'>\n",
    "In computer programming, type systems are syntactic methods to enforce and/or identify levels of abstraction. This means that type systems take advantage of the syntax of a particular programming language, in order to enforce rules and identify types. This is important, as it can manage abstraction in data, by ensuring that differing data types interact meaningfully with one another. An entire field in computer science has been dedicated to the study of programming languages from a type--theoretic approach. This is primarily due to the implication of types and their underlying principles in such areas in software engineering as optimisation and security. To learn more about the study of type systems, refer to: Pierce B. Types and programming languages. Cambridge, Mass.: MIT Press; 2002.\n",
    "</p>\n",
    "\n",
    ":::::::::::::::::::::::\n",
    "\n",
    "::::::::::::::::::::::: callout\n",
    "## Note\n",
    "<p style='text-align: justify;'>\n",
    "The values determine the type of a variable in dynamically typed languages. This is in contrast to statically typed languages, where a variable must be initialised using a specific type before a value. \n",
    "</p>\n",
    "\n",
    ":::::::::::::::::::::::\n",
    "\n",
    "\n",
    "\n",
    "#### **Why learn about *types* in a dynamically typed programming language?**\n",
    "<p style='text-align: justify;'>\n",
    "</p>\n",
    "\n",
    "<p style='text-align: justify;'>\n",
    "Python enjoys a powerful type system out of the box. The following table - [Built-in types in Python](#tb:types:nativeTypes) - provides a comprehensive reference for the built-in types in Python. Built-in types already exist in the language, and do not require the use or implementation of any third-party libraries.\n",
    "</p>\n",
    "\n",
    "![](fig/python_built-in_types.png){#tb:types:nativeTypes}\n",
    "A comprehensive (but non-exhaustive) reference of built-in (native) types in Python 3.<br> ^\\*^ Not discussed in this course --- included for reference only. <br> ^$^ ```dict``` is not an iterable by default, however, it is possible to iterate through its keys. \n",
    "\n",
    "<br> <br>**Mutability** is an important [concept in programming](https://en.wikipedia.org/wiki/Immutable_object). A mutable object is an object whose value(s) may be altered. This will become clearer once we study ```list``` and ```tuple```. Find out more about mutability in Python from the [documentation](https://docs.python.org/3.9/reference/datamodel.html). <br> <br>\n",
    "**Complex numbers** refer to a [set of numbers](http://thinkzone.wlonk.com/Numbers/NumberSets.htm) that have both a real component, and an imaginary component; where the imaginary part is defined as $\\sqrt{-1}$. These numbers are very useful in the study of oscillatory behaviours and flow (e.g. heat, fluid, electricity). To learn more about complex numbers, watch this [Khan Academy video tutorial](https://www.khanacademy.org/math/algebra2/introduction-to-complex-numbers-algebra-2/the-complex-numbers-algebra-2/v/complex-number-intro). \n",
    "\n",
    "\n",
    "Sometimes we might need want to explicitly know what the type of a variable is. To do this, we can use the build-in function <kbd>type()</kbd> as follows:\n",
    "\n",
    "```{python}\n",
    "total_items = 2\n",
    "\n",
    "print(type(total_items))\n",
    "```"
   ]
  },
  {
   "cell_type": "code",
   "execution_count": null,
   "id": "2aa1b24a",
   "metadata": {},
   "outputs": [],
   "source": [
    "total_values = 3.2\n",
    "\n",
    "print(type(total_values))"
   ]
  },
  {
   "cell_type": "code",
   "execution_count": null,
   "id": "c8949e91",
   "metadata": {},
   "outputs": [],
   "source": [
    "temperature = 16.\n",
    "\n",
    "print(type(temperature))"
   ]
  },
  {
   "cell_type": "code",
   "execution_count": null,
   "id": "06386ddd",
   "metadata": {},
   "outputs": [],
   "source": [
    "phase = 12.5+1.5j\n",
    "\n",
    "print(type(phase))"
   ]
  },
  {
   "cell_type": "code",
   "execution_count": null,
   "id": "c06ea6a1",
   "metadata": {},
   "outputs": [],
   "source": [
    "full_name = 'John Doe'\n",
    "\n",
    "print(type(full_name))"
   ]
  },
  {
   "cell_type": "markdown",
   "id": "32bcd43f",
   "metadata": {},
   "source": [
    ":::::::::::::::::: callout\n",
    "## Remember\n",
    "<p style='text-align: justify;'>\n",
    "In Python, a variable/value of a certain type may be referred to as an *instance* of that type. For instance, an integer value whose type in Python is defined as *int* is said to be an **instance of type** ```int```.\n",
    "</p>\n",
    "\n",
    "::::::::::::::::::\n",
    "\n",
    "::::::::::::::::::::::::::::::: challenge\n",
    "\n",
    "## Practice Exercise 5\n",
    "Determine and display the type for each of these values:\n",
    "\n",
    "* 32\n",
    "* 24.3454\n",
    "* 2.5 + 1.5\n",
    "* \"RNA Polymerase III\"\n",
    "* 0\n",
    "* .5 - 1\n",
    "* 1.3e-5\n",
    "* 3e5\n",
    "\n",
    "The result for each value should be represented in the following format:\n",
    "\n",
    "```Value X is an instance of <class 'Y'>```\n",
    "\n",
    "::::::::::::::: solution\n",
    "\n",
    "## ANSWER\n",
    "\n",
    "```{python}\n",
    "value = 32\n",
    "\n",
    "value_type = type(value)\n",
    "\n",
    "print('Value', value, 'is an instance of', value_type)\n",
    "```"
   ]
  },
  {
   "cell_type": "code",
   "execution_count": null,
   "id": "89ed3da8",
   "metadata": {},
   "outputs": [],
   "source": [
    "value = 24.3454\n",
    "\n",
    "value_type = type(value)\n",
    "\n",
    "print('Value', value, 'is an instance of', value_type)\n"
   ]
  },
  {
   "cell_type": "code",
   "execution_count": null,
   "id": "b59f6ee8",
   "metadata": {},
   "outputs": [],
   "source": [
    "value = 2.5 + 1.5\n",
    "\n",
    "value_type = type(value)\n",
    "\n",
    "print('Value', value, 'is an instance of', value_type)\n"
   ]
  },
  {
   "cell_type": "code",
   "execution_count": null,
   "id": "32ac6ac8",
   "metadata": {},
   "outputs": [],
   "source": [
    "value = \"RNA Polymerase III\"\n",
    "\n",
    "value_type = type(value)\n",
    "\n",
    "print('Value', value, 'is an instance of', value_type)"
   ]
  },
  {
   "cell_type": "code",
   "execution_count": null,
   "id": "df7d0aae",
   "metadata": {
    "lines_to_next_cell": 2
   },
   "outputs": [],
   "source": [
    "value = 0\n",
    "\n",
    "value_type = type(value)\n",
    "\n",
    "print('Value', value, 'is an instance of', value_type)"
   ]
  },
  {
   "cell_type": "code",
   "execution_count": null,
   "id": "a862070e",
   "metadata": {},
   "outputs": [],
   "source": [
    "value = .5 - 1\n",
    "\n",
    "value_type = type(value)\n",
    "\n",
    "print('Value', value, 'is an instance of', value_type)\n"
   ]
  },
  {
   "cell_type": "code",
   "execution_count": null,
   "id": "4acbfe1f",
   "metadata": {},
   "outputs": [],
   "source": [
    "value = 1.3e-5\n",
    "\n",
    "value_type = type(value)\n",
    "\n",
    "print('Value', value, 'is an instance of', value_type)"
   ]
  },
  {
   "cell_type": "code",
   "execution_count": null,
   "id": "fe11fb70",
   "metadata": {
    "lines_to_next_cell": 0
   },
   "outputs": [],
   "source": [
    "value = 3e5\n",
    "\n",
    "value_type = type(value)\n",
    "\n",
    "print('Value', value, 'is an instance of', value_type)"
   ]
  },
  {
   "cell_type": "markdown",
   "id": "f161f300",
   "metadata": {},
   "source": [
    ":::::::::::::::\n",
    "\n",
    ":::::::::::::::::::::::::::::::\n"
   ]
  },
  {
   "cell_type": "markdown",
   "id": "28c0145b",
   "metadata": {},
   "source": [
    "### **Conversion of types** {#sec:conversionType}\n",
    "\n",
    ":::::::::::::::::::::::::::::::::::::::::::::::: discussion\n",
    "\n",
    "## Why convert types?\n",
    "<p style='text-align: justify;'>\n",
    "It is sometimes necessary to have the values returned by the <kbd>input()</kbd> function --- *i.e*. the user's response, in other types. Imagine the following scenario:\n",
    "</p>\n",
    "\n",
    "<p style='text-align: justify;'>\n",
    "<span style=\"color: rgb(32, 121, 77);\">\n",
    "\"We ask our user to enter the total volume of their purified protein, so that we can work out the amount of assay they need to conduct a specific experiment. To calculate this assay volume using the volume of the purified protein, we need to perform mathematical calculations based on the response we receive from our user. It is not possible to perform mathematical operations on non-numeric values. Therefore, we ought to somehow convert the type from ```str``` to a numeric type.\"\n",
    "</span>\n",
    "</p>\n",
    "\n",
    "<p style='text-align: justify;'>\n",
    "The possibility of converting from one type to another depends entirely on the *value*, the *source type*, and the *target type*. For instance; we can convert an instance of type ```str``` (source type) to one of type ```int``` (target type) if and only if the source value consists entirely of numbers and there are *no* other characters.\n",
    "</p>\n",
    "\n",
    "::::::::::::::::::::::::::::::::::::::::::::::::\n",
    "\n",
    "::::::::::::::::::: callout\n",
    "\n",
    "## Remember\n",
    "<p style='text-align: justify;'>\n",
    "To convert a variable from one type to another, we use the *Type Name* of the target type (as described in Table [Built-in types in Python](#tb:types:nativeTypes) and treat it as a function.\n",
    "</p>\n",
    "\n",
    "For instance, to convert a variable to integer, we:\n",
    "\n",
    "* look up the *Type Name* for integer from Table [Built-in types in Python](#tb:types:nativeTypes)\n",
    "* then treat the *Type Name* as a function: ```int()```\n",
    "* use the function to convert our variable: new_var = ```int```(old_var)\n",
    "\n",
    ":::::::::::::::::::\n",
    "\n",
    "Here is an example of how we convert types in Python:"
   ]
  },
  {
   "cell_type": "code",
   "execution_count": null,
   "id": "e3857b20",
   "metadata": {},
   "outputs": [],
   "source": [
    "value_a = '12'\n",
    "\n",
    "print(value_a, type(value_a))"
   ]
  },
  {
   "cell_type": "code",
   "execution_count": null,
   "id": "5525c61c",
   "metadata": {},
   "outputs": [],
   "source": [
    "value_b = int(value_a)\n",
    "\n",
    "print(value_b, type(value_b))"
   ]
  },
  {
   "cell_type": "markdown",
   "id": "c7409c1e",
   "metadata": {},
   "source": [
    "If we attempt to convert a variable that contains non-numeric values, a ```ValueError``` is raised:"
   ]
  },
  {
   "cell_type": "code",
   "execution_count": null,
   "id": "3a848b53",
   "metadata": {},
   "outputs": [],
   "source": [
    "value_a = '12y'\n",
    "\n",
    "print(value_a, type(value_a))"
   ]
  },
  {
   "cell_type": "code",
   "execution_count": null,
   "id": "0b665c4d",
   "metadata": {},
   "outputs": [],
   "source": [
    "value_b = int(value_a)"
   ]
  },
  {
   "cell_type": "markdown",
   "id": "ecf336cc",
   "metadata": {},
   "source": [
    "::::::::::::::::::::::::::::::: challenge\n",
    "\n",
    "## Practice Exercise 6\n",
    "<p style='text-align: justify;'>\n",
    "In programming, we routinely face errors resulting from different mistakes. The process of finding and correcting such mistakes in the code is referred to as **debugging**.\n",
    "</p>\n",
    "\n",
    "We have been given the following piece of code written in Python:\n",
    "```\n",
    "value_a = 3\n",
    "value_b = '2'\n",
    "\n",
    "result = value_a + value_b\n",
    "print(value_a, '+', value_b, '=', result)\n",
    "```\n",
    "But when the code is executed, we encounter an error message as follows:\n",
    "\n",
    "```\n",
    "Traceback (most recent call last):\n",
    "File \"<stdin>\", line 1, in <module>\n",
    "TypeError: unsupported operand type(s) for +: 'int' and 'str'\n",
    "```\n",
    "\n",
    "Debug the snippet so that the correct result is displayed:"
   ]
  },
  {
   "cell_type": "markdown",
   "id": "aec921fc",
   "metadata": {},
   "source": [
    "> ```3 + 2 = 5```\n"
   ]
  },
  {
   "cell_type": "markdown",
   "id": "172ae958",
   "metadata": {},
   "source": [
    ":::::::::::::::::: solution\n",
    "\n",
    "## ANSWER"
   ]
  },
  {
   "cell_type": "code",
   "execution_count": null,
   "id": "edfd7388",
   "metadata": {
    "lines_to_next_cell": 0
   },
   "outputs": [],
   "source": [
    "value_a = 3\n",
    "\n",
    "value_b = '2'\n",
    "\n",
    "result = value_a + int(value_b)\n",
    "\n",
    "print(value_a, '+', value_b, '=', result)\n"
   ]
  },
  {
   "cell_type": "markdown",
   "id": "0a1fe134",
   "metadata": {},
   "source": [
    "::::::::::::::::::\n",
    "\n",
    ":::::::::::::::::::::::::::::::\n",
    "\n",
    "### **Handling Input Variables**\n",
    "\n",
    "::::::::::::::::::::::::::::::: discussion\n",
    "<p style='text-align: justify;'>\n",
    "When we use <kbd>input()</kbd> to obtain a value from the user, the results are by default an instance of type ```str```. An <kbd>input()</kbd> function always stores the response as a ```str``` value, no matter what the user enters. However, it is possible to convert the type afterwards.\n",
    "</p>\n",
    "\n",
    ":::::::::::::::::::::::::::::::\n",
    "\n",
    ":::::::::::::: callout\n",
    "\n",
    "## Remember\n",
    "<p style='text-align: justify;'>\n",
    "The <kbd>input()</kbd> function *always* returns a value of type ```str``` regardless of the user's response. In other words, if a user's response to an <kbd>input()</kbd> request is numeric, Python will *not* automatically recognise it as a numeric type.\n",
    "</p>\n",
    "\n",
    "::::::::::::::\n",
    "\n",
    "We may use *type conversion* in conjunction with the values returned by the <kbd>input()</kbd> function:\n",
    "\n",
    "```\n",
    "response = input('Please enter a numeric value: ')\n",
    "\n",
    "response_numeric = float(response)\n",
    "\n",
    "print('response:', response)\n",
    "print('response type:', type(response))\n",
    "print('response_numeric:', response_numeric)\n",
    "print('response_numeric type:', type(response_numeric))\n",
    "```\n",
    "\n",
    "<p style='text-align: justify;'>\n",
    "The output shows the results when we enter numeric values as directed.\n",
    "</p>"
   ]
  },
  {
   "cell_type": "markdown",
   "id": "29e06236",
   "metadata": {
    "lines_to_next_cell": 0
   },
   "source": [
    "::::::::::::::::::::::::::::::::::: challenge\n",
    "## Practice Exercise 7\n",
    "<p style='text-align: justify;'>\n",
    "We know that each amino acid in a protein is encoded by a triplet of mRNA nucleotides.\n",
    "</p>\n",
    "\n",
    "<p style='text-align: justify;'>\n",
    "With that in mind, alter the script you wrote for [Practice Exercise 3](#diy:enzyme) and use the number of amino acids entered by the user to calculate the number of mRNA nucleotides.\n",
    "</p>\n",
    "\n",
    "Display the results in the following format:\n",
    "\n",
    "> ```ENZYME_NAME is an enzyme with AMINO_ACIDS amino acids and NUCLEOTIDES nucleotides.```\n",
    "\n",
    "where ```NUCLEOTIDES``` is the total number of mRNA nucleotides that you calculated.\n",
    "\n",
    "**Note:** Multiplication is represented using the asterisk (```*```) sign.\n",
    "\n",
    "::::::::::::: solution\n",
    "\n",
    "## ANSWER\n",
    "\n",
    "```\n",
    "enzyme = input('Please enter the name of an enzyme: ')\n",
    "\n",
    "length = input('How many amino acids does the enzyme contain? ')\n",
    "\n",
    "nucleotides = 3 * int(length)\n",
    "\n",
    "print(enzyme, 'is an enzyme with', length, 'amino acids and',  nucleotides, 'nucleotides.')\n",
    "\n",
    "```\n",
    "\n",
    ":::::::::::::\n",
    "\n",
    ":::::::::::::::::::::::::::::::::::\n",
    "\n",
    "### **Variable scopes**\n",
    "[**Resolution of names**](https://docs.python.org/3.6/reference/executionmodel.html\\#resolution-of-names)\n",
    "<p style='text-align: justify;'>\n",
    "When defining a variable, we should always consider where in our program we intend to use it. The more localised our variables, the better. This is because local variables are easier to distinguish, and thus reduce the chance of making mistakes --- e.g. unintentionally redefining or altering the value of an existing variable.\n",
    "</p>\n",
    "\n",
    "<p style='text-align: justify;'>\n",
    "Therefore, the scope of a variable defines the ability to reference a variable from different *points* in our programs. The concept of local variables becomes clearer once we explore functions in programming in chapter [Functions](06-functions.Rmd).\n",
    "</p>\n",
    "\n",
    "<p style='text-align: justify;'>\n",
    "As displayed in Figure [Variable scopes](#fig:opts:scopes), the point *at* or *from* which a variable can be referenced depends on the location where the variable is defined.\n",
    "</p>\n",
    "\n",
    "In essence, there are three general rules to remember in relation to variable scopes in Python:\n",
    "\n",
    "<p style='text-align: justify;'>\n",
    "I. A variable that is defined in the outer scope, can be *accessed* or *called* in the inner scopes, but it cannot be *altered* implicitly. Not that such variables may still be altered using special techniques (not discussed).\n",
    "</p>\n",
    "\n",
    "<p style='text-align: justify;'>\n",
    "II. A variable that is defined in the innermost scopes (local), can only be *accessed*, *called*, or *altered* within the boundaries of the scope it is defined in.\n",
    "</p>\n",
    "\n",
    "<p style='text-align: justify;'>\n",
    "III. The inner scopes *from* which a variable is referenced must themselves be contained within the defining scope --- e.g. in ```FuncB``` of Figure [Variable scopes](#fig:opts:scopes), we can reference ```a```, ```b```, and ```x```; but not ```f1```. This is because the scope of ```f1``` is ```Script``` <kbd>→</kbd> ```FuncA```, so it can only be referenced from ```Script```  <kbd>→</kbd> ```FuncA``` <kbd>→ ...</kbd>, but not  ````Script```<kbd>→  ...</kbd> or ```Script``` <kbd>→</kbd>  ```FuncB``` <kbd>→ ...</kbd>.\n",
    "</p>\n",
    "\n",
    "![Variable scopes in Python with respect to scripts and functions.](fig/variable_scopes.png){#fig:opts:scopes}\n",
    "<p style='text-align: justify;'>\n",
    "As we discussed earlier in this lesson, it is paramount to remember that Python is an interpreted language. This means that the Python interpreter goes through the codes that we write line by line, interpreting it to machine language. It is only then that the commands are processed and executed by the computer. On that account, a variable (or a function) can be referenced only *after* its initial definition. That is why, for instance, in ```Script (part 2)``` of Figure [Variable scopes](#fig:opts:scopes), we can reference every variable and function except for ```FuncC```, which is declared further down in the code hierarchy.\n",
    "</p>\n",
    "\n",
    "<p style='text-align: justify;'>\n",
    "Although scope and hierarchy appear at first glance as theoretical concepts in programming, their implications are entirely practical. The definition of these principles vary from one programming language to another. As such, it is essential to understand these principles and their implications in relation to any programming language we are trying to learn.\n",
    "</p>\n",
    "\n",
    "### **Optional: How to use Terminal environment?** {#terminal}\n",
    "![](fig/commandprompt_1.png)\n",
    "![](fig/commandprompt_2.png)\n",
    "![](fig/commandprompt_3.png)\n",
    "\n",
    "## Operations {#sec:operations}\n",
    "<p style='text-align: justify;'>\n",
    "Through our experimentation with [variable types](#sec:varTyp), we already know that variables may be subjected to different operations.\n",
    "</p>\n",
    "\n",
    "<p style='text-align: justify;'>\n",
    "When assessing [type conversions](#sec:conversionType), we also established that the operations we can apply to each variable depend on the *type* of that variable. To that end, we learned that although it is sometimes possible to mix variables from different types to perform an operation (for example multiplying a floating point number with an integer), there are some logical restrictions in place.\n",
    "</p>\n",
    "\n",
    "<p style='text-align: justify;'>\n",
    "Throughout this section, we will take a closer look into different types of operations in Python. This will allow us to gain a deeper insight, and to familiarise ourselves with the underlying logic.\n",
    "</p>\n",
    "\n",
    "<p style='text-align: justify;'>\n",
    "To recapitulate on what we have done so far, we start off by reviewing *additions* --- the most basic of all operations.\n",
    "</p>\n",
    "\n",
    "Give the variable ```total_items```:"
   ]
  },
  {
   "cell_type": "code",
   "execution_count": null,
   "id": "ff4a121d",
   "metadata": {
    "lines_to_next_cell": 2
   },
   "outputs": [],
   "source": [
    "total_items = 2\n",
    "\n",
    "print(total_items)"
   ]
  },
  {
   "cell_type": "markdown",
   "id": "0c3f89a1",
   "metadata": {},
   "source": [
    "We can increment the value of an *existing* variable by ```1``` as follows:"
   ]
  },
  {
   "cell_type": "code",
   "execution_count": null,
   "id": "4c9f488c",
   "metadata": {},
   "outputs": [],
   "source": [
    "total_items = total_items + 1\n",
    "\n",
    "print(total_items)"
   ]
  },
  {
   "cell_type": "markdown",
   "id": "67277605",
   "metadata": {},
   "source": [
    "<p style='text-align: justify;'>\n",
    "Given two different variables, each containing a different value; we can perform an operation on these values and store the result in *another* variable without altering the original variables in any way:\n",
    "</p>"
   ]
  },
  {
   "cell_type": "code",
   "execution_count": null,
   "id": "e52734ff",
   "metadata": {},
   "outputs": [],
   "source": [
    "old_items = 4\n",
    "new_items = 3\n",
    "\n",
    "total_items = old_items + new_items\n",
    "\n",
    "print(total_items)"
   ]
  },
  {
   "cell_type": "markdown",
   "id": "3ce106cd",
   "metadata": {},
   "source": [
    "<p style='text-align: justify;'>\n",
    "We can change the value of an *existing* variable using a value stored in *another* variable:\n",
    "</p>"
   ]
  },
  {
   "cell_type": "code",
   "execution_count": null,
   "id": "40e6a5cd",
   "metadata": {},
   "outputs": [],
   "source": [
    "new_items = 5\n",
    "total_items = total_items + new_items\n",
    "\n",
    "print(total_items)"
   ]
  },
  {
   "cell_type": "markdown",
   "id": "4ee1f488",
   "metadata": {},
   "source": [
    "There is also a shorthand method for applying this operation on an *existing* variable:"
   ]
  },
  {
   "cell_type": "code",
   "execution_count": null,
   "id": "338815bd",
   "metadata": {},
   "outputs": [],
   "source": [
    "total_items = 2\n",
    "\n",
    "print(total_items)"
   ]
  },
  {
   "cell_type": "code",
   "execution_count": null,
   "id": "378cae67",
   "metadata": {
    "lines_to_next_cell": 2
   },
   "outputs": [],
   "source": [
    "total_items += 1\n",
    "\n",
    "print(total_items)"
   ]
  },
  {
   "cell_type": "code",
   "execution_count": null,
   "id": "727197d4",
   "metadata": {},
   "outputs": [],
   "source": [
    "new_items = 5\n",
    "total_items += new_items\n",
    "\n",
    "print(total_items)"
   ]
  },
  {
   "cell_type": "markdown",
   "id": "bdf2cc4a",
   "metadata": {},
   "source": [
    "<p style='text-align: justify;'>\n",
    "As highlighted in the [introduction](#sec:operations), different operations may be applied to any variable or value. We can now explore the most fundamental operations in programming, and learn about their implementation in Python.\n",
    "</p>\n",
    "\n",
    "::::::::::::::::::: callout\n",
    "## Remember\n",
    "<p style='text-align: justify;'>\n",
    "There are 2 very general categories of operations in programming: *mathematical*, and *logical*. Naturally, we use mathematical operations to perform calculations, and logical operations to perform tests.\n",
    "</p>\n",
    "\n",
    ":::::::::::::::::::\n",
    "\n",
    "### **Mathematical Operations** {#math_ops}\n",
    "\n",
    "Suppose ```a``` and ```b``` are two variables representing integers, as follows:\n",
    "\n",
    "```\n",
    "a = 17\n",
    "b = 5\n",
    "```\n",
    "\n",
    "Using ```a``` and ```b``` we can itemise built-in mathematical operations in Python as follows:\n",
    "\n",
    "![Routine mathematical operations in Python](fig/routine_operations.png){#fig:nativeTypes}\n",
    "\n",
    "::::::::::::::::::: callout\n",
    "\n",
    "## Remember\n",
    "<p style='text-align: justify;'>\n",
    "As far as mathematical operations are concerned, variables ```a``` and ```b``` may be an instance of any *numeric* type. See Table [Routine mathematical operations in Python](#fig:nativeTypes) to find out more about numeric types in Python.\n",
    "</p>\n",
    "\n",
    "Values of type ```int``` have been chosen in our examples to facilitate the understanding of the results.\n",
    "\n",
    ":::::::::::::::::::"
   ]
  },
  {
   "cell_type": "markdown",
   "id": "a55626c3",
   "metadata": {},
   "source": [
    "::::::::::::::::::::::::::::::::::::: challenge\n",
    "\n",
    "## Practice Exercise 8 {#diy:mathsI}\n",
    "\n",
    "1. Calculate the following and store the results in appropriately named variables:\n",
    "\n",
    "  a. $5.8 \\times 3.3$\n",
    "  b. $\\frac{180}{6}$\n",
    "  c. $35 - 3.0$\n",
    "  d. $35 - 3$\n",
    "  e. $2^{1000}$\n",
    "\n",
    "Display the result of each calculation -- including the type, in the following format:\n",
    "\n",
    "> ```Result: X is an instance of <class 'Y'>```"
   ]
  },
  {
   "cell_type": "markdown",
   "id": "eea832ef",
   "metadata": {
    "lines_to_next_cell": 0
   },
   "source": [
    "2. Now using the results you obtained:\n",
    "<p style='text-align: justify;'>\n",
    "  **I.** Can you explain why the result of $35 - 3.0$ is an instance of type ```float```, whilst that of $35 - 3$ is of type ```int```?\n",
    "</p>\n",
    "\n",
    "<p style='text-align: justify;'>\n",
    "  **II.** Unlike the numeric types, string values have a length. To obtain the length of a string value, we use <kbd>len()</kbd>. Convert the result for $2^{1000}$ from ```int``` to ```str```, then use the aforementioned function to work out the length of the number --- i.e. how many digits is it made of?\n",
    "</p>\n",
    "\n",
    "<p style='text-align: justify;'>\n",
    "If you feel adventurous, you can try this for $2^{10000}$ or higher; but beware that you might overwhelm your computer and need a restart it if you go too far (i.e. above $2^{1000000}$). Just make sure you save everything beforehand, so you don't accidentally lose your work.\n",
    "</p>\n",
    "\n",
    "<p style='text-align: justify;'>\n",
    "**Hint:** We discuss <kbd>len()</kbd> in our [subsection of arrays](04-arrays.Rmd) arrays lesson. However, at this point, you should be able to use the official function documentation to figure out how it works. To access a function’s documentation or docstring within Jupyter Notebook, for example you can use `help(function_name)`  to reveal it’s documentation. Clicking within the function (for example, placing your cursor inside the function `len`) and using `shift+tab` can also be an easy shortcut for viewing a function’s docstring.\n",
    "</p>\n",
    "\n",
    "::::::::::::::::::::: solution\n",
    "\n",
    "## Q1"
   ]
  },
  {
   "cell_type": "code",
   "execution_count": null,
   "id": "01488b15",
   "metadata": {
    "lines_to_next_cell": 2
   },
   "outputs": [],
   "source": [
    "q1_a = 5.8 * 3.3\n",
    "print('Result:', q1_a, 'is an instance of', type(q1_a))\n",
    "\n",
    "q1_b = 180 / 6\n",
    "print('Result:', q1_b, 'is an instance of', type(q1_b))\n",
    "\n",
    "q1_c = 35 - 3.0\n",
    "print('Result:', q1_c, 'is an instance of', type(q1_c))\n",
    "\n",
    "q1_d = 35 - 3\n",
    "print('Result:', q1_d, 'is an instance of', type(q1_d))\n",
    "\n",
    "q1_e = 2 ** 1000\n",
    "print('Result:', q1_e, 'is an instance of', type(q1_e))"
   ]
  },
  {
   "cell_type": "markdown",
   "id": "e7705807",
   "metadata": {},
   "source": [
    ":::::::::::::::::::::\n",
    "\n",
    "::::::::::::::::::::: solution\n",
    "## Q2-I\n",
    "<p style='text-align: justify;'>\n",
    "In the case of $35 - 3.0$ vs $35 - 3$, the former includes a floating point number. Operations involving multiple numeric types always produce the results as an instance of the type that covers all of the operands -- i.e. ```float``` covers ```int```, but not vice-versa.\n",
    "</p>\n",
    "\n",
    ":::::::::::::::::::::\n",
    "\n",
    "::::::::::::::::::::: solution\n",
    "\n",
    "## Q2-II"
   ]
  },
  {
   "cell_type": "code",
   "execution_count": null,
   "id": "67d434c9",
   "metadata": {},
   "outputs": [],
   "source": [
    "big_num = 2 ** 1000\n",
    "big_num_str = str(big_num)\n",
    "big_num_len = len(big_num_str)\n",
    "\n",
    "print('Length of 2**1000:', big_num_len)"
   ]
  },
  {
   "cell_type": "markdown",
   "id": "898038a0",
   "metadata": {},
   "source": [
    ":::::::::::::::::::::\n",
    "\n",
    ":::::::::::::::::::::::::::::::::::::"
   ]
  },
  {
   "cell_type": "markdown",
   "id": "1650cd8d",
   "metadata": {},
   "source": [
    ":::::::::::::::::::::::: callout\n",
    "## Interesting Fact\n",
    "<p style='text-align: justify;'>\n",
    "As of Python 3.6, you can use an underscores (``` _ ```) *within* large numbers as a separator to make them easier to read in your code. For instance, instead of ```x = 1000000```, you can write ```x = 1_000_000```.\n",
    "</p>\n",
    "\n",
    "::::::::::::::::::::::::"
   ]
  },
  {
   "cell_type": "markdown",
   "id": "08a96e40",
   "metadata": {},
   "source": [
    "#### **Shorthand:**\n",
    "<p style='text-align: justify;'>\n",
    "When it comes to mathematical operations in Python, there is a frequently used shorthand method that every Python programmer should be familiar with.\n",
    "</p>\n",
    "\n",
    "<p style='text-align: justify;'>\n",
    "Suppose we have a variable defined as ```total_residues = 52``` and want to perform a mathematical operation on it. However, we would like to store the result of that operation in ```total_residues``` instead of a new variable. We can do this as follows:\n",
    "</p>"
   ]
  },
  {
   "cell_type": "code",
   "execution_count": null,
   "id": "cc6ffd00",
   "metadata": {
    "lines_to_next_cell": 2
   },
   "outputs": [],
   "source": [
    "total_residues = 52\n",
    "\n",
    "# Addition:\n",
    "total_residues += 8\n",
    "\n",
    "print(total_residues)"
   ]
  },
  {
   "cell_type": "code",
   "execution_count": null,
   "id": "a696eeff",
   "metadata": {
    "lines_to_next_cell": 2
   },
   "outputs": [],
   "source": [
    "# Subtraction:\n",
    "total_residues -= 10\n",
    "\n",
    "print(total_residues)"
   ]
  },
  {
   "cell_type": "code",
   "execution_count": null,
   "id": "37d1eb60",
   "metadata": {},
   "outputs": [],
   "source": [
    "# Multiplication:\n",
    "total_residues *= 2\n",
    "\n",
    "print(total_residues)"
   ]
  },
  {
   "cell_type": "code",
   "execution_count": null,
   "id": "9717fd0b",
   "metadata": {},
   "outputs": [],
   "source": [
    "# Division:\n",
    "total_residues /= 4\n",
    "\n",
    "print(total_residues)"
   ]
  },
  {
   "cell_type": "code",
   "execution_count": null,
   "id": "51447a83",
   "metadata": {},
   "outputs": [],
   "source": [
    "# Floor quotient:\n",
    "total_residues //= 2\n",
    "\n",
    "print(total_residues)"
   ]
  },
  {
   "cell_type": "code",
   "execution_count": null,
   "id": "56f4dc2c",
   "metadata": {},
   "outputs": [],
   "source": [
    "# Remainder:\n",
    "total_residues %= 5\n",
    "\n",
    "print(total_residues)"
   ]
  },
  {
   "cell_type": "code",
   "execution_count": null,
   "id": "e0bdc6ae",
   "metadata": {},
   "outputs": [],
   "source": [
    "# Power:\n",
    "total_residues **= 3\n",
    "\n",
    "print(total_residues)"
   ]
  },
  {
   "cell_type": "markdown",
   "id": "a49c39cd",
   "metadata": {},
   "source": [
    "We can also perform such operations using multiple variables:"
   ]
  },
  {
   "cell_type": "code",
   "execution_count": null,
   "id": "74a8a1dc",
   "metadata": {},
   "outputs": [],
   "source": [
    "total_residues = 52\n",
    "new_residues = 8\n",
    "number_of_proteins = 3\n",
    "\n",
    "total_residues += new_residues\n",
    "\n",
    "print(total_residues)"
   ]
  },
  {
   "cell_type": "code",
   "execution_count": null,
   "id": "4f1af0cd",
   "metadata": {
    "lines_to_next_cell": 0
   },
   "outputs": [],
   "source": [
    "total_residues += (number_of_proteins * new_residues)\n",
    "\n",
    "print(total_residues)"
   ]
  },
  {
   "cell_type": "markdown",
   "id": "309a2d89",
   "metadata": {},
   "source": []
  },
  {
   "cell_type": "markdown",
   "id": "c05f9eb1",
   "metadata": {},
   "source": [
    "::::::::::::::::::::::::::::::::::::: challenge\n",
    "\n",
    "## Practice Exercise 9 {#diy:mathsII}\n",
    "\n",
    "1. Given:\n",
    "\t* Circumference: $C = 18.84956$\n",
    "\t* Radius: $R = 3$\n",
    "\n",
    "and considering that the properties of a circle are defined as follows:"
   ]
  },
  {
   "cell_type": "markdown",
   "id": "a96a91ec",
   "metadata": {},
   "source": [
    "$$\\pi = \\frac{C}{D}$$\n",
    "calculate $\\pi$ using the above equation and store it in a variable named ```pi```:\n",
    "\n",
    "![](fig/circle.png)"
   ]
  },
  {
   "cell_type": "markdown",
   "id": "7d6018fb",
   "metadata": {},
   "source": [
    "Then round the results to 5 decimal places and display the result in the following format:\n",
    "\n",
    ">```The value of pi calculated to 5 decimal places: X.XXXXX```\n",
    "\n",
    "<p style='text-align: justify;'>\n",
    "**Note: **To round floating point numbers in Python, we use the function <kbd>round()</kbd>. This is a built-in function that takes two input arguments: the first is the variable/value to be rounded, and the second is the number of decimal places we wish to round to. Read more about the <kbd>round()</kbd> function in its [official documentation](https://docs.python.org/3/library/functions.html#round).\n",
    "</p>\n",
    "\n",
    "2. Now without creating a new variable, perform the following operation:\n",
    "\n",
    "\t$$pi = \\frac{pi}{(3 \\bmod 2) - 1}$$"
   ]
  },
  {
   "cell_type": "markdown",
   "id": "85006f94",
   "metadata": {},
   "source": [
    "where the expression ''$3 \\bmod 2$'' represents the remainder for the division of 3 by 2.\n",
    "\n",
    "Explain the output.\n",
    "\n",
    "::::::::::::::::::::: solution\n",
    "## Q1"
   ]
  },
  {
   "cell_type": "code",
   "execution_count": null,
   "id": "59e998a8",
   "metadata": {},
   "outputs": [],
   "source": [
    "c = 18.84956\n",
    "r = 3\n",
    "d = r * 2\n",
    "\n",
    "pi = c / d\n",
    "\n",
    "print('The value of pi calculated to 5 decimal places:', round(pi, 5))"
   ]
  },
  {
   "cell_type": "markdown",
   "id": "cc62295c",
   "metadata": {},
   "source": [
    ":::::::::::::::::::::\n",
    "\n",
    "::::::::::::::::::::: solution\n",
    "## Q2\n",
    "```\n",
    "\tpi /= (3 % 2) - 1\n",
    "\n",
    "```\n",
    "\n",
    "The calculation raises a ```ZeroDivisionError```. This is because division by zero is mathematically impossible.\n",
    ":::::::::::::::::::::\n",
    "\n",
    ":::::::::::::::::::::::::::::::::::::\n",
    "\n",
    "#### **Precedence:**\n",
    "<p style='text-align: justify;'>\n",
    "In mathematics and computer programming, there are a series of conventional rules on the precedence of procedures to evaluate a mathematical expression. This collection of rules is referred to as the *order of operation* or *operator precedence*.\n",
    "</p>\n",
    "\n",
    "Suppose we have a mathematical expression as follows:\n",
    "\n",
    "$$x = 2 + 3 \\times 9$$\n",
    "<p style='text-align: justify;'>\n",
    "Such an expression can *only* be evaluated correctly if we do the multiplication first and then perform the addition. This means that the evaluation is done as follows:\n",
    "</p>\n",
    "\n",
    "$$given:3 \\times 9  = 27$$\n",
    "$$\\implies x = 2 + 27$$\n",
    "$$ = 29$$\n",
    "\n",
    "For instance, in an expression such as:"
   ]
  },
  {
   "cell_type": "markdown",
   "id": "4297f8cc",
   "metadata": {},
   "source": [
    "$$x = 2 \\times (3 + (5 - 1)^2)$$"
   ]
  },
  {
   "cell_type": "markdown",
   "id": "95022c02",
   "metadata": {},
   "source": [
    "the evaluation workflow may be described as follows:"
   ]
  },
  {
   "cell_type": "markdown",
   "id": "abb6d2a9",
   "metadata": {},
   "source": [
    "$$x = 2 \\times (3 + 4^2)$$\n",
    "$$ = 2 \\times (3 + 16)$$\n",
    "$$ = 38$$\n",
    "<p style='text-align: justify;'>\n",
    "The same principle applies in Python. This means that if we use Python to evaluate the above expression, the result would be identical:\n",
    "</p>"
   ]
  },
  {
   "cell_type": "code",
   "execution_count": null,
   "id": "3636e029",
   "metadata": {
    "lines_to_next_cell": 2
   },
   "outputs": [],
   "source": [
    "result = 2 * (3 + (5 - 1) ** 2)\n",
    "\n",
    "print(result)"
   ]
  },
  {
   "cell_type": "markdown",
   "id": "e45e09cc",
   "metadata": {},
   "source": [
    "::::::::::::::::::::: callout\n",
    "## Remember\n",
    "Operator precedence in mathematical operations may be described as follows:\n",
    "\n",
    "1. Exponents and roots\n",
    "2. Multiplication and division\n",
    "3. Addition and subtraction\n",
    "\n",
    "If there are any parentheses ```( )``` in the expression, the expression is evaluated from the innermost parenthesis, outwards.\n",
    "\n",
    ":::::::::::::::::::::\n",
    "\n",
    "::::::::::::::::::::::::::::::::::::: challenge\n",
    "\n",
    "## Practice Exercise 10\n",
    "Display the result of each item in the following format:\n",
    "\n",
    "```\n",
    "EXPRESSION = RESULT\n",
    "```\n",
    "\n",
    "For example:\n",
    "\n",
    "```\n",
    "\t2 + 3 = 5\n",
    "```"
   ]
  },
  {
   "cell_type": "markdown",
   "id": "add93e42",
   "metadata": {},
   "source": [
    "1. Calculate each expression *without* using parentheses:\n",
    "\n",
    "  a. $3 \\times \\frac{2}{4}$\n",
    "  b. $5 + 3 \\times \\frac{2}{4}$\n",
    "  c. $3 \\times \\frac{2}{4} + 5$\n",
    "  d. $\\frac{2}{4} \\times 3$\n"
   ]
  },
  {
   "cell_type": "markdown",
   "id": "f0dbb784",
   "metadata": {},
   "source": [
    "2. Calculate these expressions *using* parentheses:\n",
    "\n",
    "  a. $5 + \\frac{2}{4} \\times 3$\n",
    "  b.  $5 + \\frac{2 \\times 3}{4}$\n",
    "  c. $5 + \\frac{2}{4 \\times 3}$"
   ]
  },
  {
   "cell_type": "markdown",
   "id": "201624fe",
   "metadata": {
    "lines_to_next_cell": 0
   },
   "source": [
    "3.  Given\n",
    "\n",
    "```\n",
    "a = 2\n",
    "b = 5\n",
    "```\n",
    "\n",
    "use ```a``` and ```b``` to calculate the following expressions:\n",
    "\n",
    "  a. $(a + b)^2$\n",
    "  b. $a^2 + 2ab + b^2$\n",
    "\n",
    "::::::::::::::::::::: solution\n",
    "\n",
    "## Q1"
   ]
  },
  {
   "cell_type": "code",
   "execution_count": null,
   "id": "2972c3d5",
   "metadata": {},
   "outputs": [],
   "source": [
    "q1_a = 3 * 2 / 4\n",
    "print('3 * 2 / 4 =', q1_a)\n",
    "\n",
    "q1_b = 5 + 3 * 2 / 4\n",
    "print('5 + 3 * 2 / 4 =', q1_b)\n",
    "\n",
    "q1_c = 3 * 2 / 4 + 5\n",
    "print('3 * 2 / 4 + 5 =', q1_c)\n",
    "\n",
    "q1_d = 2 / 4 * 3\n",
    "print('2 / 4 * 3 =', q1_d)\n"
   ]
  },
  {
   "cell_type": "markdown",
   "id": "c667e117",
   "metadata": {},
   "source": [
    ":::::::::::::::::::::\n",
    "\n",
    "::::::::::::::::::::: solution\n",
    "## Q2"
   ]
  },
  {
   "cell_type": "code",
   "execution_count": null,
   "id": "06dcc22a",
   "metadata": {},
   "outputs": [],
   "source": [
    "q2_a = 5 + (2 / 4) * 3\n",
    "print('5 + (2 / 4) * 3 =', q2_a)\n",
    "\n",
    "q2_b = 5 + (2 * 3) / 4\n",
    "print('5 + (2 * 3) / 4 =', q2_b)\n",
    "\n",
    "q2_c = 5 + 2 / (4 * 3)\n",
    "print('5 + 2 / (4 * 3) =', q2_c)\n"
   ]
  },
  {
   "cell_type": "markdown",
   "id": "effc6c8d",
   "metadata": {},
   "source": [
    ":::::::::::::::::::::\n",
    "\n",
    "::::::::::::::::::::: solution\n",
    "\n",
    "## Q3"
   ]
  },
  {
   "cell_type": "code",
   "execution_count": null,
   "id": "1a1bba2b",
   "metadata": {},
   "outputs": [],
   "source": [
    "a = 2\n",
    "b = 5\n",
    "\n",
    "q3_a = (a + b) ** 2\n",
    "print('(a + b)^2 =', q3_a)\n",
    "\n",
    "q3_b = a ** 2 + 2 * a * b + b ** 2\n",
    "print('a^2 + 2ab + b^2 =', q3_b)\n"
   ]
  },
  {
   "cell_type": "markdown",
   "id": "a6f72533",
   "metadata": {},
   "source": [
    ":::::::::::::::::::::\n",
    "\n",
    ":::::::::::::::::::::::::::::::::::::\n",
    "\n",
    "#### **Non-numeric values** {#subsubsec:mathematicalOperations:nonNumerics}\n",
    "<p style='text-align: justify;'>\n",
    "It sometimes makes sense to apply *some* mathematical operations to non-numeric variables, too.\n",
    "</p>\n",
    "\n",
    "<p style='text-align: justify;'>\n",
    "We can multiply strings in order to repeat them. There is no specific advantage to using multiplication instead of manually repeating characters or words, but it does make our code look cleaner, which is ideal.\n",
    "</p>\n",
    "\n",
    "<p style='text-align: justify;'>\n",
    "We can also add string values to each other. This is called *string concatenation*. It is a useful method for concatenating, and provides a useful method for combining multiple strings and/or string variables.\n",
    "</p>"
   ]
  },
  {
   "cell_type": "code",
   "execution_count": null,
   "id": "8a5056d8",
   "metadata": {},
   "outputs": [],
   "source": [
    "SEPARATOR = '-' * 20\n",
    "NEW_LINE = '\\n'\n",
    "SPACE = ' '\n",
    "\n",
    "forename = 'Jane'\n",
    "surname = 'Doe'\n",
    "birthday = '01/01/1990'\n",
    "\n",
    "full_name = forename + SPACE + surname\n",
    "\n",
    "data = full_name + NEW_LINE + SEPARATOR + NEW_LINE + 'DoB: ' + birthday\n",
    "\n",
    "print(data)\n"
   ]
  },
  {
   "cell_type": "markdown",
   "id": "90702223",
   "metadata": {},
   "source": [
    ":::::::::::::::: callout\n",
    "\n",
    "## Remember\n",
    "<p style='text-align: justify;'>\n",
    "New line character or ```'\\n'``` is a universal directive to induce a line-break in Unix-based operating systems (Mac OS) and Linux). In WINDOWS, we usually us ```'\\r'``` or ```'\\r\\n'``` instead. These are known as escape sequences.\n",
    "</p>\n",
    "\n",
    "::::::::::::::::\n",
    "\n",
    "::::::::::::::::::::::::::::::::::::: challenge\n",
    "\n",
    "## Practice Exercise 11 {#diy:mathOpts:Huntington}\n",
    "<p style='text-align: justify;'>\n",
    "Symptomatic Huntington's disease appears to increase in proportion to the number of ```CAG``` trinucleotide repeats (the codon for glutamine); once these exceed 35 repeats near the beginning of the Huntingtin (```IT15```) gene, the individual is phenotypic for the disease. These ```CAG``` repeats are also referred to as a polyglutamine or polyQ tract.\n",
    "</p>\n",
    "\n",
    "```\n",
    "glutamine_codon = 'CAG'\n",
    "```\n",
    "\n",
    "1. Create a polynucleotide chain representing 36 glutamine codons. Store the result in a variable called ```polyq_codons```.\n",
    "\n",
    "Display the result as:\n",
    "\n",
    "```\n",
    "Polyglutamine codons with 36 repeats: XXXXXXXXX...\n",
    "```"
   ]
  },
  {
   "cell_type": "markdown",
   "id": "2a07d58c",
   "metadata": {},
   "source": [
    "2. Use <kbd>len()</kbd> to work out the length of ```polyq_codons```, and store the result in a variable called ```polyq_codons_length```.\n",
    "\n",
    "Display the result in the following format:\n",
    "\n",
    "```\n",
    "Number of nucleotides in a polyglutamine with 36 repeats: XXX\n",
    "```"
   ]
  },
  {
   "cell_type": "markdown",
   "id": "47d803da",
   "metadata": {},
   "source": [
    "3. Use <kbd>len()</kbd> to work out the length of ```glutamine_codon```, and store the result in variable ```amino_acids_per_codon```.\n",
    "\n",
    "4. Divide ```polyq_codons_length``` by ```amino_acids_per_codon``` to verify that the chain contains the total codons to encode exactly 36 amino acids. Store the result in a variable titled ```polyq_peptide_length```.\n",
    "\n",
    "Display the result in the following format:\n",
    "\n",
    "```\n",
    "Number of amino acids in a polyglutamine with 36 repeats: XXX\n",
    "```\n",
    "\n",
    "5. Determine the types for the following variable:\n",
    "\n",
    "* amino_acids_per_codon\n",
    "* polyq_codons_length\n",
    "* polyq_peptide_length\n",
    "\n",
    "\tand display the result for each item in the following format:\n",
    "\n",
    "```\n",
    "Value: XXX - Type: <class 'XXXX'>\n",
    "```\n",
    "\n",
    "6. Are all the variables in task #5 of the same type? Why?\n",
    "\n",
    "7. Repeat from task #4, but this time use an alternative method of division as outlined in See Table [Routine mathematical operations in Python](#fig:nativeTypes).\n",
    "\n",
    ":::::::::::::::::::: solution\n",
    "\n",
    "## Q1"
   ]
  },
  {
   "cell_type": "code",
   "execution_count": null,
   "id": "eef23489",
   "metadata": {},
   "outputs": [],
   "source": [
    "glutamine_codon = 'CAG'\n",
    "\n",
    "polyq_codons = glutamine_codon * 36\n",
    "\n",
    "print('Polyglutamine codons with 36 repeats:', polyq_codons)"
   ]
  },
  {
   "cell_type": "markdown",
   "id": "185f9ac1",
   "metadata": {},
   "source": [
    "::::::::::::::::::::\n",
    "\n",
    ":::::::::::::::::::: solution\n",
    "\n",
    "## Q2\n",
    "\n",
    "``` {python}\n",
    "polyq_codons_length = len(polyq_codons)\n",
    "\n",
    "print('Number of nucleotides in a polyglutamine with 36 repeats:', polyq_codons_length)\n",
    "```\n",
    "\n",
    "::::::::::::::::::::\n",
    "\n",
    ":::::::::::::::::::: solution\n",
    "\n",
    "## Q3"
   ]
  },
  {
   "cell_type": "code",
   "execution_count": null,
   "id": "4123f531",
   "metadata": {
    "lines_to_next_cell": 0
   },
   "outputs": [],
   "source": [
    "amino_acids_per_codon = len(glutamine_codon)"
   ]
  },
  {
   "cell_type": "markdown",
   "id": "1e7e3fef",
   "metadata": {},
   "source": [
    "::::::::::::::::::::\n",
    "\n",
    ":::::::::::::::::::: solution\n",
    "\n",
    "## Q4"
   ]
  },
  {
   "cell_type": "code",
   "execution_count": null,
   "id": "21c79e8e",
   "metadata": {},
   "outputs": [],
   "source": [
    "polyq_peptide_length = polyq_codons_length / amino_acids_per_codon\n",
    "\n",
    "print('Number of amino acids in a polyglutamine with 36 repeats:', polyq_peptide_length)\n"
   ]
  },
  {
   "cell_type": "markdown",
   "id": "ec09f14d",
   "metadata": {},
   "source": [
    "::::::::::::::::::::\n",
    "\n",
    ":::::::::::::::::::: solution\n",
    "\n",
    "## Q5"
   ]
  },
  {
   "cell_type": "code",
   "execution_count": null,
   "id": "9afcbc30",
   "metadata": {
    "results": "hold"
   },
   "outputs": [],
   "source": [
    "print('Value:', amino_acids_per_codon, '- Type:', type(amino_acids_per_codon))\n",
    "\n",
    "print('Value:', polyq_codons_length, '- Type:', type(polyq_codons_length))\n",
    "\n",
    "print('Value:', polyq_peptide_length, '- Type:', type(polyq_peptide_length))"
   ]
  },
  {
   "cell_type": "markdown",
   "id": "8cb404c3",
   "metadata": {},
   "source": [
    "::::::::::::::::::::\n",
    "\n",
    ":::::::::::::::::::: solution\n",
    "## Q6\n",
    "<p style='text-align: justify;'>\n",
    "No, ```polyq_peptide_length``` is an instance of type ```float```. This is because we used the normal division (```/```) and not floor division (```//```}) to calculate its value. The result of normal division is always presented as a floating point number.\n",
    "</p>\n",
    "\n",
    "::::::::::::::::::::\n",
    "\n",
    ":::::::::::::::::::: solution\n",
    "\n",
    "## Q7"
   ]
  },
  {
   "cell_type": "code",
   "execution_count": null,
   "id": "fbdece00",
   "metadata": {
    "results": "hold"
   },
   "outputs": [],
   "source": [
    "polyq_peptide_length = polyq_codons_length // amino_acids_per_codon\n",
    "\n",
    "print('Number of amino acids in a polyglutamine with 36 repeats:', polyq_peptide_length)\n",
    "\n",
    "print('Value:', amino_acids_per_codon, '- Type:', type(amino_acids_per_codon))\n",
    "\n",
    "print('Value:', polyq_codons_length, '- Type:', type(polyq_codons_length))\n",
    "\n",
    "print('Value:', polyq_peptide_length, '- Type:', type(polyq_peptide_length))"
   ]
  },
  {
   "cell_type": "markdown",
   "id": "84c4d93f",
   "metadata": {},
   "source": [
    "::::::::::::::::::::\n",
    "\n",
    ":::::::::::::::::::::::::::::::::::::\n",
    "\n",
    ":::::::::::::::::::: callout\n",
    "\n",
    "## Interesting Fact\n",
    "<p style='text-align: justify;'>\n",
    "The Boolean data type is named after the English mathematician and logician George Boole (1815--1864).\n",
    "</p>\n",
    "\n",
    "::::::::::::::::::::\n",
    "\n",
    "### **Logical Operations** {#subsec:logicalOperatons}\n",
    "<p style='text-align: justify;'>\n",
    "An operation may sometimes involve a comparison. The result of these operations may be either ```True``` or ```False```. This is known as the *Boolean* or ```bool``` data type. In reality, however, computers record ```True``` and ```False``` as ```1``` and ```0```, respectively.\n",
    "</p>\n",
    "\n",
    "<p style='text-align: justify;'>\n",
    "Operations with Boolean results are referred to as *logical operations*. Testing the results of such operations is referred to as *truth value testing*.\n",
    "</p>\n",
    "\n",
    "Given the two variables ```a``` and ```b``` as follows:\n",
    "\n",
    "```\n",
    "a = 17\n",
    "b = 5\n",
    "```\n",
    "\n",
    "Boolean operations may be defined as outlined in this Table [Routine logical operations in Python.](#tab:routineOperations).\n",
    "\n",
    "![Routine logical operations in Python.](fig/routine_logical_operations.png){#tab:routineOperations}"
   ]
  },
  {
   "cell_type": "markdown",
   "id": "84736918",
   "metadata": {},
   "source": [
    "::::::::::::::::::::::::::::::::::::: challenge\n",
    "\n",
    "## Practice Exercise 12 {#diy:equivalence}\n",
    "\n",
    "We know that in algebra, the first identity (square of a binomial) is:\n",
    "\n",
    "$$(a + b)^2 = a^2 + 2ab + b^2$$\n",
    "now given:\n",
    "\n",
    "```\n",
    "a = 15\n",
    "b = 4\n",
    "```"
   ]
  },
  {
   "cell_type": "markdown",
   "id": "c4c51daf",
   "metadata": {},
   "source": [
    "1. Calculate\n",
    "\n",
    "$$y_1 = (a + b)^{2}$$\n",
    "$$y_2 = a^2 + 2ab + b^2$$\n",
    "\n",
    "Display the results in the following format:\n",
    "\n",
    "```\n",
    "y1 = XX\n",
    "y2 = XX\n",
    "```\n",
    "<p style='text-align: justify;'>\n",
    "2. Determine whether or not ```y_1``` is indeed equal to ```y_2```. Store the result of your test in another variable called ```equivalence```. Display the results in the following format:\n",
    "</p>\n",
    "\n",
    "```\n",
    "Where a = XX and b = XX:\n",
    "y1 is equal to y2: [True/False]\n",
    "```\n",
    "\n",
    "::::::::::::::::::::: solution\n",
    "\n",
    "## Q1"
   ]
  },
  {
   "cell_type": "code",
   "execution_count": null,
   "id": "651ca8d0",
   "metadata": {
    "results": "hold"
   },
   "outputs": [],
   "source": [
    "a = 15\n",
    "b = 4\n",
    "\n",
    "y_1 = (a + b) ** 2\n",
    "y_2 = a ** 2 + 2 * a * b + b ** 2\n",
    "\n",
    "print('y1 =', y_1)\n",
    "print('y2 =', y_2)\n"
   ]
  },
  {
   "cell_type": "markdown",
   "id": "f8b8bca9",
   "metadata": {},
   "source": [
    ":::::::::::::::::::::\n",
    "\n",
    "::::::::::::::::::::: solution\n",
    "\n",
    "## Q2"
   ]
  },
  {
   "cell_type": "code",
   "execution_count": null,
   "id": "6de6a0c3",
   "metadata": {
    "lines_to_next_cell": 0,
    "results": "hold"
   },
   "outputs": [],
   "source": [
    "\n",
    "equivalence = y_1 == y_2\n",
    "\n",
    "print('Where a =', a, ' and b=', b)\n",
    "print('y1 is equal to y2:', equivalence)"
   ]
  },
  {
   "cell_type": "markdown",
   "id": "40a599ad",
   "metadata": {},
   "source": [
    ":::::::::::::::::::::\n",
    "\n",
    ":::::::::::::::::::::::::::::::::::::\n",
    "\n",
    "#### **Negation** {#sec:logicalStatements:Negation}\n",
    "\n",
    "We can also use negation in logical operations. Negation in Python is implemented using <kbd>not</kbd>:\n",
    "\n",
    "![Negations in Python.](fig/Negation.png)\n",
    "\n",
    "::::::::::::::::::::::::::::::::::::: challenge\n",
    "\n",
    "## Practice Exercise 13\n",
    "\n",
    "Using the information from previous [Practice Exercise 12](#diy:equivalence):\n",
    "\n",
    "<p style='text-align: justify;'>\n",
    "1. Without using <kbd>not</kbd>, determine whether or not ```y_1``` is *not equal* to ```y_2```. Display the result of your test and store it in another variable called ```inequivalent```.\n",
    "</p>\n",
    "\n",
    "2. Negate ```inequivalent``` and display the result.\n",
    "\n",
    ":::::::::::::::: solution\n",
    "\n",
    "## Q1"
   ]
  },
  {
   "cell_type": "code",
   "execution_count": null,
   "id": "72b8df09",
   "metadata": {},
   "outputs": [],
   "source": [
    "inequivalent = y_1 != y_2\n",
    "\n",
    "print(inequivalent)\n"
   ]
  },
  {
   "cell_type": "markdown",
   "id": "8714622c",
   "metadata": {},
   "source": [
    "::::::::::::::::\n",
    "\n",
    ":::::::::::::::: solution\n",
    "\n",
    "## Q2"
   ]
  },
  {
   "cell_type": "code",
   "execution_count": null,
   "id": "fdd029c6",
   "metadata": {},
   "outputs": [],
   "source": [
    "inequivalent_negated = not inequivalent\n",
    "\n",
    "print(inequivalent_negated)\n"
   ]
  },
  {
   "cell_type": "markdown",
   "id": "75c787c4",
   "metadata": {},
   "source": [
    "::::::::::::::::\n",
    "\n",
    ":::::::::::::::::::::::::::::::::::::\n",
    "\n",
    "#### **Disjunctions and Conjunctions:** {#disjun}\n",
    "<p style='text-align: justify;'>\n",
    "Logical operations may be combined using conjunction with <kbd>and</kbd> and disjunction with <kbd>or</kbd> to create more complex logics:\n",
    "</p>\n",
    "\n",
    "![Disjunctions and Conjunctions in Python.](fig/Disjunction.png)"
   ]
  },
  {
   "cell_type": "markdown",
   "id": "0a6d8c97",
   "metadata": {},
   "source": [
    "::::::::::::::::::::::::::::::::::::: challenge\n",
    "\n",
    "## Practice Exercise 14\n",
    "\n",
    "Given\n",
    "\n",
    "```\n",
    "a = True\n",
    "b = False\n",
    "c = True\n",
    "```\n",
    "\n",
    "Evaluate the following statements:\n",
    "\n",
    "1. a == b\n",
    "2. a == c\n",
    "3. a ```or``` b\n",
    "4. a ```and``` b\n",
    "5. a ```or``` b ```and``` c\n",
    "6. (a ```or``` b) ```and``` c\n",
    "7. ```not``` a ```or``` (b ```and``` c)\n",
    "8. ```not``` a ```or``` ```not```(b ```and``` c)\n",
    "9. ```not``` a ```and``` ```not```(b ```and``` c)\n",
    "10. ```not``` a ```and``` ```not```(b ```or``` c)"
   ]
  },
  {
   "cell_type": "markdown",
   "id": "dbf56dec",
   "metadata": {
    "lines_to_next_cell": 0
   },
   "source": [
    "Display the results in the following format:\n",
    "\n",
    "```\n",
    "1. [True/False]\n",
    "2. [True/False]\n",
    "\t\t...\n",
    "```\n",
    "\n",
    "Given that:"
   ]
  },
  {
   "cell_type": "code",
   "execution_count": null,
   "id": "7e5877c6",
   "metadata": {},
   "outputs": [],
   "source": [
    "a = True\n",
    "b = False\n",
    "c = True"
   ]
  },
  {
   "cell_type": "markdown",
   "id": "baba3829",
   "metadata": {},
   "source": [
    ":::::::::::::::::: solution\n",
    "## Q1"
   ]
  },
  {
   "cell_type": "code",
   "execution_count": null,
   "id": "1e5df5b6",
   "metadata": {
    "lines_to_next_cell": 0
   },
   "outputs": [],
   "source": [
    "print('1.', a == b)"
   ]
  },
  {
   "cell_type": "markdown",
   "id": "2eea5b83",
   "metadata": {},
   "source": [
    "::::::::::::::::::\n",
    "\n",
    ":::::::::::::::::: solution\n",
    "## Q2"
   ]
  },
  {
   "cell_type": "code",
   "execution_count": null,
   "id": "3dbaf221",
   "metadata": {
    "lines_to_next_cell": 0
   },
   "outputs": [],
   "source": [
    "print('2.', a == c)"
   ]
  },
  {
   "cell_type": "markdown",
   "id": "9e10a582",
   "metadata": {},
   "source": [
    "::::::::::::::::::"
   ]
  },
  {
   "cell_type": "markdown",
   "id": "478b871c",
   "metadata": {},
   "source": [
    ":::::::::::::::::: solution\n",
    "## Q3"
   ]
  },
  {
   "cell_type": "code",
   "execution_count": null,
   "id": "739f01fe",
   "metadata": {
    "lines_to_next_cell": 0
   },
   "outputs": [],
   "source": [
    "print('3.', a or b)"
   ]
  },
  {
   "cell_type": "markdown",
   "id": "a54df3d4",
   "metadata": {},
   "source": [
    "::::::::::::::::::"
   ]
  },
  {
   "cell_type": "markdown",
   "id": "52c70431",
   "metadata": {},
   "source": [
    ":::::::::::::::::: solution\n",
    "## Q4"
   ]
  },
  {
   "cell_type": "code",
   "execution_count": null,
   "id": "b33d66fb",
   "metadata": {
    "lines_to_next_cell": 0
   },
   "outputs": [],
   "source": [
    "print('4.', a and b)"
   ]
  },
  {
   "cell_type": "markdown",
   "id": "ea069908",
   "metadata": {},
   "source": [
    "::::::::::::::::::\n",
    "\n",
    ":::::::::::::::::: solution\n",
    "## Q5"
   ]
  },
  {
   "cell_type": "code",
   "execution_count": null,
   "id": "c1a3b2a9",
   "metadata": {
    "lines_to_next_cell": 0
   },
   "outputs": [],
   "source": [
    "print('5.', a or b and c)"
   ]
  },
  {
   "cell_type": "markdown",
   "id": "64603bbb",
   "metadata": {},
   "source": [
    "::::::::::::::::::\n",
    "\n",
    ":::::::::::::::::: solution\n",
    "## Q6"
   ]
  },
  {
   "cell_type": "code",
   "execution_count": null,
   "id": "975388a6",
   "metadata": {
    "lines_to_next_cell": 0
   },
   "outputs": [],
   "source": [
    "print('6.', (a or b) and c)"
   ]
  },
  {
   "cell_type": "markdown",
   "id": "d5c9ed5e",
   "metadata": {},
   "source": [
    "::::::::::::::::::\n",
    "\n",
    ":::::::::::::::::: solution\n",
    "## Q7"
   ]
  },
  {
   "cell_type": "code",
   "execution_count": null,
   "id": "aeaf085f",
   "metadata": {
    "lines_to_next_cell": 0
   },
   "outputs": [],
   "source": [
    "print('7.', not a or (b and c))"
   ]
  },
  {
   "cell_type": "markdown",
   "id": "e224f15a",
   "metadata": {},
   "source": [
    "::::::::::::::::::\n",
    "\n",
    ":::::::::::::::::: solution\n",
    "## Q8"
   ]
  },
  {
   "cell_type": "code",
   "execution_count": null,
   "id": "8ab8e6f3",
   "metadata": {
    "lines_to_next_cell": 0
   },
   "outputs": [],
   "source": [
    "print('8.', not a or not(b and c))"
   ]
  },
  {
   "cell_type": "markdown",
   "id": "16cd2cc5",
   "metadata": {},
   "source": [
    "::::::::::::::::::"
   ]
  },
  {
   "cell_type": "markdown",
   "id": "17abaf0e",
   "metadata": {},
   "source": [
    ":::::::::::::::::: solution\n",
    "## Q9"
   ]
  },
  {
   "cell_type": "code",
   "execution_count": null,
   "id": "a052d0ef",
   "metadata": {
    "lines_to_next_cell": 0
   },
   "outputs": [],
   "source": [
    "print('9.', not a and not(b and c))"
   ]
  },
  {
   "cell_type": "markdown",
   "id": "bb1b6206",
   "metadata": {},
   "source": [
    "::::::::::::::::::\n",
    "\n",
    ":::::::::::::::::: solution\n",
    "## Q10"
   ]
  },
  {
   "cell_type": "code",
   "execution_count": null,
   "id": "d2c6d902",
   "metadata": {
    "lines_to_next_cell": 0
   },
   "outputs": [],
   "source": [
    "print('10.', not a and not(b or c))"
   ]
  },
  {
   "cell_type": "markdown",
   "id": "b9c92a4f",
   "metadata": {},
   "source": [
    "::::::::::::::::::\n",
    "\n",
    ":::::::::::::::::::::::::::::::::::::\n",
    "\n",
    "#### **Complex logical operations:**\n",
    "<p style='text-align: justify;'>\n",
    "It may help to break down more complex operations, or use parentheses to make them easier to read and write:\n",
    "</p>\n",
    "\n",
    "![Complex Logical Operations in Python:](fig/Complex_Logical_Operations.png)\n",
    "\n",
    "<p style='text-align: justify;'>\n",
    "Notice that in the last example, all notations is essentially the same, and only varies in terms of the collective results as defined using parentheses. Always remember that in a logical statement:\n",
    "</p>\n",
    "\n",
    "::::::::::::::::::::::: checklist\n",
    "\n",
    "## Logical statement\n",
    "<p style='text-align: justify;'>\n",
    "- [x] The statement in parentheses does **not** have precedence over the rest of the state (unlike mathematical statements). It merely defines an independent part of the operation whose response is evaluated separately.\n",
    "</p>\n",
    "\n",
    "<p style='text-align: justify;'>\n",
    "- [x] The precedence is established on a first-come-first-serve basis (from left to right).\n",
    "</p>\n",
    "\n",
    "<p style='text-align: justify;'>\n",
    "- [x] Always use parentheses in longer statements for clarification.\n",
    "</p>\n",
    "\n",
    "<p style='text-align: justify;'>\n",
    "- [x] In disjunctive statements (such as a > 5 ```or``` b > 5) if the first part is ```True```, the second part is *not* checked. In other words, if a is greater than 5, the computer does not proceed to check whether or not b is greater than 5.\n",
    "</p>\n",
    "\n",
    "<p style='text-align: justify;'>\n",
    "- [x] In conjunctive statements (such as a > 5 ```and``` b > 5) the statement proceeds to the seconds part if the first part is ```True```. In other words, the result of a conjunctive statement is only ```True``` if both a and b are greater than 5. If a is ```False```, the entire statement will inevitably be ```False```.\n",
    "</p>\n",
    "\n",
    "<p style='text-align: justify;'>\n",
    "- [x] The longer the statement, the more difficult it would be to understand it properly, and by extension, the more likely it would be to cause problems.\n",
    "</p>\n",
    "\n",
    ":::::::::::::::::::::::"
   ]
  },
  {
   "cell_type": "code",
   "execution_count": null,
   "id": "a5a4d0fe",
   "metadata": {},
   "outputs": [],
   "source": [
    "a, b, c = 17, 5, 2  # Alternative method to define variables."
   ]
  },
  {
   "cell_type": "code",
   "execution_count": null,
   "id": "dcc144b7",
   "metadata": {
    "lines_to_next_cell": 2
   },
   "outputs": [],
   "source": [
    "# Disjunction: false OR true.\n",
    "a < b or b > c"
   ]
  },
  {
   "cell_type": "code",
   "execution_count": null,
   "id": "e4087e37",
   "metadata": {
    "lines_to_next_cell": 2
   },
   "outputs": [],
   "source": [
    "# Disjunction: true OR true.\n",
    "a > b or b > c"
   ]
  },
  {
   "cell_type": "code",
   "execution_count": null,
   "id": "be2d2552",
   "metadata": {
    "lines_to_next_cell": 2
   },
   "outputs": [],
   "source": [
    "# Conjunction: true AND true.\n",
    "a > b and b > c"
   ]
  },
  {
   "cell_type": "code",
   "execution_count": null,
   "id": "018a8ccf",
   "metadata": {},
   "outputs": [],
   "source": [
    "# Conjunction: false and true.\n",
    "a < b and b > c"
   ]
  },
  {
   "cell_type": "code",
   "execution_count": null,
   "id": "80e77b76",
   "metadata": {},
   "outputs": [],
   "source": [
    "# Disjunction and conjunction: true OR false AND true\n",
    "a > b or b < c and b < a"
   ]
  },
  {
   "cell_type": "code",
   "execution_count": null,
   "id": "e9c63a15",
   "metadata": {
    "lines_to_next_cell": 2
   },
   "outputs": [],
   "source": [
    "# Disjunction and conjunction: false OR true AND false\n",
    "a < b or b > c and b > a"
   ]
  },
  {
   "cell_type": "code",
   "execution_count": null,
   "id": "1684bbf4",
   "metadata": {},
   "outputs": [],
   "source": [
    "# Disjunctions and conjunction: false OR true AND true\n",
    "a < b or b > c and b < a"
   ]
  },
  {
   "cell_type": "code",
   "execution_count": null,
   "id": "819d0cc4",
   "metadata": {
    "lines_to_next_cell": 2
   },
   "outputs": [],
   "source": [
    "# Disjunction and negated conjunction and conjunction:\n",
    "# true AND NOT false AND false\n",
    "a < b or not b < c and b > a"
   ]
  },
  {
   "cell_type": "code",
   "execution_count": null,
   "id": "a663a810",
   "metadata": {},
   "outputs": [],
   "source": [
    "# Disjunction and negated conjunction - similar to the\n",
    "# previous example: true AND NOT (false AND false)\n",
    "a < b or not (b < c and b > a)"
   ]
  },
  {
   "cell_type": "markdown",
   "id": "a6432730",
   "metadata": {},
   "source": [
    "<p style='text-align: justify;'>\n",
    "These are only a few examples. There are endless possibilities, try them yourself and see how they work.\n",
    "</p>\n",
    "\n",
    "::::::::::::: callout\n",
    "\n",
    "## Remember\n",
    "<p style='text-align: justify;'>\n",
    "Some logical operations may be written in different ways. However, we should always use the notation that is most coherent in the context of our code. If in doubt, use the simplest or shortest notation.\n",
    "</p>\n",
    "\n",
    ":::::::::::::"
   ]
  },
  {
   "cell_type": "markdown",
   "id": "19c167a5",
   "metadata": {},
   "source": [
    "To that end, you may want to use variables to break complex statements down into smaller fragments:"
   ]
  },
  {
   "cell_type": "code",
   "execution_count": null,
   "id": "d780cb52",
   "metadata": {
    "results": "hold"
   },
   "outputs": [],
   "source": [
    "age_a, age_b = 15, 35\n",
    "\n",
    "are_positive = age_a > 0 and age_b > 0\n",
    "\n",
    "a_is_older = are_positive and (age_a > age_b)\n",
    "b_is_older = are_positive and (age_a < age_b)\n",
    "\n",
    "a_is_teenager = are_positive and 12 < age_a < 20\n",
    "b_is_teenager = are_positive and 12 < age_b < 20\n",
    "\n",
    "a_is_teenager and b_is_older"
   ]
  },
  {
   "cell_type": "code",
   "execution_count": null,
   "id": "54832c9a",
   "metadata": {},
   "outputs": [],
   "source": [
    "a_is_teenager and a_is_older"
   ]
  },
  {
   "cell_type": "code",
   "execution_count": null,
   "id": "4ce46cef",
   "metadata": {},
   "outputs": [],
   "source": [
    "a_is_teenager and (b_is_teenager or b_is_older)"
   ]
  },
  {
   "cell_type": "markdown",
   "id": "8e33d4d6",
   "metadata": {},
   "source": [
    "::::::::::::::::::::::::::::::::::::: challenge\n",
    "\n",
    "## Practice Exercise 15\n",
    "\n",
    "Given\n",
    "```\n",
    "a = 3\n",
    "b = 13\n",
    "```\n",
    "\n",
    "Test the following statements and display the results:\n",
    "\n",
    "* $a^2 < b$\n",
    "* $3 - a^3 < b$\n",
    "* $|25 - a^2| > b$\n",
    "* $25 \\bmod a^2 > b$\n",
    "* $25 \\bmod a^2 > b$ or $25 \\bmod b < a$\n",
    "* $25 \\bmod a^2 < b$ and $25 \\bmod b > a$\n",
    "* $\\frac{12}{a}$ and $a\\times4 < b$"
   ]
  },
  {
   "cell_type": "markdown",
   "id": "192f12d5",
   "metadata": {},
   "source": [
    "where \"|...|\" represents the absolute value, and \"$n \\bmod m$\" represents the remainder for the division of $n$ by $m$.}\n",
    "\n",
    "Display the results in the following format:\n",
    "```\n",
    "1. [True/False]\n",
    "2. [True/False]\n",
    "...\n",
    "```\n",
    "\n",
    ":::::::::::::::: solution\n",
    "\n",
    "## Q1"
   ]
  },
  {
   "cell_type": "code",
   "execution_count": null,
   "id": "f8a5dce1",
   "metadata": {
    "lines_to_next_cell": 0
   },
   "outputs": [],
   "source": [
    "\n",
    "#Given that:\n",
    "a = 3\n",
    "b = 13\n",
    "print('1.', a**2 < b)"
   ]
  },
  {
   "cell_type": "markdown",
   "id": "26137fcc",
   "metadata": {},
   "source": [
    "::::::::::::::::"
   ]
  },
  {
   "cell_type": "markdown",
   "id": "6410d19a",
   "metadata": {},
   "source": [
    ":::::::::::::::: solution\n",
    "\n",
    "## Q2"
   ]
  },
  {
   "cell_type": "code",
   "execution_count": null,
   "id": "78cf3aa9",
   "metadata": {
    "lines_to_next_cell": 0
   },
   "outputs": [],
   "source": [
    "print('2.', (3 - a**3) < b)"
   ]
  },
  {
   "cell_type": "markdown",
   "id": "94dc3ffb",
   "metadata": {},
   "source": [
    "::::::::::::::::"
   ]
  },
  {
   "cell_type": "markdown",
   "id": "4a1638d3",
   "metadata": {},
   "source": [
    ":::::::::::::::: solution\n",
    "\n",
    "## Q3"
   ]
  },
  {
   "cell_type": "code",
   "execution_count": null,
   "id": "58b277d7",
   "metadata": {
    "lines_to_next_cell": 0
   },
   "outputs": [],
   "source": [
    "print('3.', abs(25 - a**2) > b)"
   ]
  },
  {
   "cell_type": "markdown",
   "id": "d6b51171",
   "metadata": {},
   "source": [
    "::::::::::::::::\n",
    "\n",
    ":::::::::::::::: solution\n",
    "\n",
    "## Q4"
   ]
  },
  {
   "cell_type": "code",
   "execution_count": null,
   "id": "24c56e33",
   "metadata": {
    "lines_to_next_cell": 0
   },
   "outputs": [],
   "source": [
    "print('4.', (25 % a**2) > b)"
   ]
  },
  {
   "cell_type": "markdown",
   "id": "054bbb7e",
   "metadata": {},
   "source": [
    "::::::::::::::::"
   ]
  },
  {
   "cell_type": "markdown",
   "id": "e5445855",
   "metadata": {},
   "source": [
    ":::::::::::::::: solution\n",
    "\n",
    "## Q5"
   ]
  },
  {
   "cell_type": "code",
   "execution_count": null,
   "id": "2cbe2499",
   "metadata": {
    "lines_to_next_cell": 0
   },
   "outputs": [],
   "source": [
    "print('5.', (25 % a**2) > b or (25 % b) < a)"
   ]
  },
  {
   "cell_type": "markdown",
   "id": "a3157a6a",
   "metadata": {},
   "source": [
    "::::::::::::::::\n",
    "\n",
    ":::::::::::::::: solution\n",
    "\n",
    "## Q6"
   ]
  },
  {
   "cell_type": "code",
   "execution_count": null,
   "id": "e5f895df",
   "metadata": {
    "lines_to_next_cell": 0
   },
   "outputs": [],
   "source": [
    "print('6.', (25 % a**2) < b and (25 % b) > a)"
   ]
  },
  {
   "cell_type": "markdown",
   "id": "272efe56",
   "metadata": {},
   "source": [
    "::::::::::::::::"
   ]
  },
  {
   "cell_type": "markdown",
   "id": "1c401ead",
   "metadata": {},
   "source": [
    ":::::::::::::::: solution\n",
    "\n",
    "## Q7"
   ]
  },
  {
   "cell_type": "code",
   "execution_count": null,
   "id": "47340e8c",
   "metadata": {
    "lines_to_next_cell": 0
   },
   "outputs": [],
   "source": [
    "print('7.', (12 / a) and (a * 4) < b)"
   ]
  },
  {
   "cell_type": "markdown",
   "id": "590d4669",
   "metadata": {},
   "source": [
    "::::::::::::::::"
   ]
  },
  {
   "cell_type": "markdown",
   "id": "70fa534b",
   "metadata": {},
   "source": [
    ":::::::::::::::::::::::::::::::::::::\n",
    "\n",
    "## Exercises\n",
    "\n",
    "##\n",
    ":::::::::::::::::::::::::::::::::::::::: challenge\n",
    "\n",
    "## End of chapter Exercises\n",
    "\n",
    "1. Write and execute a Python code to display your own name as an output in the Terminal.\n",
    "\n",
    "2. Write and execute a Python code that:\n",
    "\n",
    "  * Displays the text: ```Please press enter to continue...```, and waits for the user to press enter.\n",
    "  * Once the user presses enter, the program should display ```Welcome to my programme!``` before terminating.\n",
    "\n",
    "3. We have an enzyme whose reaction velocity is $v=50~mol \\cdot L^{-1} \\cdot s^{-1}$ at the substrate concentration of $[S] = K_{m} = 2.5~mol \\cdot L^{-1}$. Work out the maximum reaction velocity or $V_{\\max}$ for this enzyme using the Michaelis-Menten equation:"
   ]
  },
  {
   "cell_type": "markdown",
   "id": "a4c75c43",
   "metadata": {},
   "source": [
    "\t\t$$v = \\frac{V_{\\max} [\\textrm{S}]}{K_{m} + [\\textrm{S}]}$$"
   ]
  },
  {
   "cell_type": "markdown",
   "id": "bd2b1a07",
   "metadata": {},
   "source": [
    "::::::::::::::::::::: solution\n",
    "\n",
    "## Solutions will be provided once the submitted assignments are marked and returned.\n",
    "\n",
    ":::::::::::::::::::::\n",
    "::::::::::::::::::::::::::::::::::::::::\n",
    "\n",
    "::::::::::::::::::::::::::::::::::::: keypoints\n",
    "\n",
    "- Two key functions for I/O operations are <kbd>print()</kbd> and <kbd>input()</kbd>\n",
    "- Three most commonly used variables such as ```int```, ```float```, and ```str```.\n",
    "- Variable scope can be local or global depending where they are being used.\n",
    "- Mathematical operations follow conventional rules of precedence\n",
    "- Logical operations provide results in Boolean (True or False)\n",
    "\n",
    "::::::::::::::::::::::::::::::::::::::::::::::::\n",
    "[r-markdown]: https://rmarkdown.rstudio.com/"
   ]
  }
 ],
 "metadata": {
  "jupytext": {
   "cell_metadata_filter": "results,-all",
   "main_language": "python",
   "notebook_metadata_filter": "-all"
  }
 },
 "nbformat": 4,
 "nbformat_minor": 5
}
