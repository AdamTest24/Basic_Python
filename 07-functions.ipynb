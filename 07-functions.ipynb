{
 "cells": [
  {
   "cell_type": "raw",
   "id": "a81e8d61",
   "metadata": {},
   "source": [
    "---\n",
    "title: \"Functions\"\n",
    "teaching: 10\n",
    "exercises: 2\n",
    "---"
   ]
  },
  {
   "cell_type": "markdown",
   "id": "29d3263e",
   "metadata": {},
   "source": [
    "[**Download Chapter notebook (ipynb)**](07-functions.ipynb)"
   ]
  },
  {
   "cell_type": "markdown",
   "id": "71da24cb",
   "metadata": {},
   "source": [
    ":::::::::::::::::::::::::::::::::::::: questions\n",
    "\n",
    "- What are functions?\n",
    "- How are functions created?\n",
    "- What are optional arguments?\n",
    "- What makes functions so powerful?\n",
    "\n",
    "::::::::::::::::::::::::::::::::::::::::::::::::\n"
   ]
  },
  {
   "cell_type": "markdown",
   "id": "a4bc39e7",
   "metadata": {},
   "source": [
    "::::::::::::::::::::::::::::::::::::: objectives\n",
    "\n",
    "- Understand how to develop and utilise functions.\n",
    "- Understanding different ways of creating functions.\n",
    "- Explaining input arguments.\n",
    "- Understanding the interconnectivity of functions.\n",
    "::::::::::::::::::::::::::::::::::::::::::::::::\n",
    "\n",
    "<br>\n",
    "<p align = \"center\">\n",
    "<iframe width=\"560\" height=\"315\" src=\"https://www.youtube.com/embed/hcvGRK8FvQ8\" title=\"YouTube video player\" frameborder=\"0\" allow=\"accelerometer; autoplay; clipboard-write; encrypted-media; gyroscope; picture-in-picture\" allowfullscreen></iframe>\n",
    "</p>\n",
    "<br>\n",
    "<p align = \"center\">\n",
    "<iframe width=\"560\" height=\"315\" src=\"https://www.youtube.com/embed/_Y6ucZYbVL4\" title=\"YouTube video player\" frameborder=\"0\" allow=\"accelerometer; autoplay; clipboard-write; encrypted-media; gyroscope; picture-in-picture\" allowfullscreen></iframe>\n",
    "</p>\n",
    "<br>\n",
    "<p align = \"center\">\n",
    "<iframe width=\"560\" height=\"315\" src=\"https://www.youtube.com/embed/on_v5Ge80iE\" title=\"YouTube video player\" frameborder=\"0\" allow=\"accelerometer; autoplay; clipboard-write; encrypted-media; gyroscope; picture-in-picture\" allowfullscreen></iframe>\n",
    "</p>\n",
    "<br>\n",
    "\n",
    "This chapter assumes that you are familiar with the following concepts in Python:\n",
    "\n",
    ":::::::::::::::::: prereq\n",
    "- [Mathematical Operation](02-input_output.Rmd#math_ops)\n",
    "- [Indentation Rule](03-conditional_statements.Rmd#subsubsec:indentationRule)\n",
    "- [Conditional Statements](03-conditional_statements.Rmd)\n",
    "- [Arrays](04-arrays.Rmd)\n",
    "- [Loops and Iterations](05-iterations.Rmd)\n",
    "\n",
    "::::::::::::::::::\n",
    "\n",
    "## Functions {#sec:functions}"
   ]
  },
  {
   "cell_type": "markdown",
   "id": "c2d5e04f",
   "metadata": {},
   "source": [
    "[**Defining Functions**](https://docs.python.org/3/tutorial/controlflow.html\\#defining-functions)\n",
    "\n",
    "<p style='text-align: justify;'>\n",
    "In programming, functions are individual units or blocks of code that incorporate and perform specific tasks in a sequence defined and written by the programmer. As we learned in the first chapter (on [outputs](02-input_output.Rmd#sub:ProducingAnOutput)), a function usually takes in one or several variables or values, processes them, and produces a specific result. The variable(s) given to a function and those produced by it are referred to as *input arguments*, and *outputs* respectively.\n",
    "</p>\n",
    "\n",
    "<p style='text-align: justify;'>\n",
    "There are different ways to create functions in Python. In the L2D, we will be using <kbd>def</kbd> to implement our functions. This is the simplest and most common method for declaring a function. The structure of a typical function defined using <kbd>def</kbd> is as follows:\n",
    "</p>\n",
    "\n",
    "![](fig/typical_function.png)\n",
    "\n",
    ":::::::::::::::::::::::::::::::::::: callout\n",
    "\n",
    "## Remember\n",
    "\n",
    "There are several points to remember relative to functions:\n",
    "\n",
    "<p style='text-align: justify;'>\n",
    "- The name of a function follows same principles as that of any other variable as discussed in [variable names](02-input_output.Rmd#subsec:variableNames). The name must be in *lower-case* characters.\n",
    "</p>\n",
    "\n",
    "<p style='text-align: justify;'>\n",
    "- The input arguments of a function --- e.g. <span style=\"color: rgb(32, 121, 77);\">value_a</span> and <span style=\"color: rgb(32, 121, 77);\">value_b</span> in the above example; are essentially variables whose *scope* is the function. That is, they are *only* accessible *within* the function itself, and not from anywhere else in the code.\n",
    "</p>\n",
    "\n",
    "<p style='text-align: justify;'>\n",
    "- Variables defined within a function, should *never* use the same name as variables defined outside of it; or they may override each other.\n",
    "</p>\n",
    "\n",
    "<p style='text-align: justify;'>\n",
    "-  A function declared using <kbd>def</kbd> should *always* be terminated with a <kbd>return</kbd> syntax. Any values or variables that follow <kbd>return</kbd> are regarded as the function's output.\n",
    "</p>\n",
    "\n",
    "<p style='text-align: justify;'>\n",
    "- If we do not specify a return value, or fail to terminate a function using <kbd>return</kbd> altogether, the Python interpreter will automatically terminate that function with an implicit ```return None```. Being an *implicit* process, this is generally regarded as a bad practice and should be avoided.\n",
    "</p>\n",
    "\n",
    "::::::::::::::::::::::::::::::::::::\n",
    "\n",
    "<p style='text-align: justify;'>\n",
    "We implement functions to avoid repetition in our code. It is important that a function is *only* performing a very specific task, so that it can be context-independent. You should therefore avoid incorporating separable tasks inside a single function.\n",
    "</p>\n",
    "\n",
    ":::::::::::::::::::::::::::::::::::: callout\n",
    "## Interesting Fact\n",
    "\n",
    "<p style='text-align: justify;'>\n",
    "Functions are designed to perform specific tasks. That is why in the majority of cases, they are named using *verbs* --- e.g. <kbd>add()</kbd> or <kbd>print()</kbd>. Verbs describe an action, a state, or an occurrence in the English language. Likewise, this type of nomenclature describes the action performed by a specific function. As we encourage with variable naming: sensible, short and descriptive names are best to consider, when naming a function.\n",
    "</p>\n",
    "\n",
    "::::::::::::::::::::::::::::::::::::\n",
    "\n",
    "<p style='text-align: justify;'>\n",
    "Once you start creating functions for different purposes, you will eventually amass a library of ready-to-use functions which can individually address different needs. This is the primary principle of a popular programming paradigm known as [functional programming](https://en.wikipedia.org/wiki/Functional_programming).\n",
    "</p>\n",
    "\n",
    "So let us implement the example outline in the diagram:"
   ]
  },
  {
   "cell_type": "code",
   "execution_count": null,
   "id": "ffdb7a0d",
   "metadata": {
    "results": "hold"
   },
   "outputs": [],
   "source": [
    "\n",
    "def add(value_a, value_b):\n",
    "    \"\"\"\n",
    "    Calculates the sum of two numeric values\n",
    "    given as inputs.\n",
    "\n",
    "    :param value_a: First value.\n",
    "    :type value_a: int, float\n",
    "    :param value_b: Second value.\n",
    "    :type value_b: int, float\n",
    "    :return: Sum of the two values.\n",
    "    :rtype: int, float\n",
    "    \"\"\"\n",
    "    result = value_a + value_b\n",
    "    return result"
   ]
  },
  {
   "cell_type": "markdown",
   "id": "2d481c77",
   "metadata": {},
   "source": [
    "<p style='text-align: justify;'>\n",
    "Once implemented, we can call and use the function we created. We can do so in the same way as we do with the *built-in* functions such as <kbd>max()</kbd> or <kbd>print()</kbd>:\n",
    "</p>"
   ]
  },
  {
   "cell_type": "code",
   "execution_count": null,
   "id": "941c1868",
   "metadata": {},
   "outputs": [],
   "source": [
    "res = add(2, 5)\n",
    "\n",
    "print(res)"
   ]
  },
  {
   "cell_type": "markdown",
   "id": "f79a702d",
   "metadata": {},
   "source": [
    ":::::::::::::::::::::::::::::::::::: callout\n",
    "## Remember\n",
    "\n",
    "When calling a function, we should always pass our *positional input arguments* in the order they are defined in the function definition: i.e. from left to right.\n",
    "\n",
    "<p style='text-align: justify;'>\n",
    "This is because in the case of *positional arguments*, as the name suggests, the Python interpreter relies on the *position* of each value to identify its *variable name* in the function signature. The function signature for our ```add``` function is as follows:\n",
    "</p>\n",
    "\n",
    "```\n",
    "add(value_a, value_b)\n",
    "```\n",
    "<p style='text-align: justify;'>\n",
    "So in the above example where we say <span style=\"color: rgb(32, 121, 77);\">add(2, 5)</span>, the value <span style=\"color: rgb(32, 121, 77);\">2</span> is identified as the *input argument* for <span style=\"color: rgb(32, 121, 77);\">value_a</span>, and not <span style=\"color: rgb(32, 121, 77);\">value_b</span>. This happens automatically because in our function call, the value <span style=\"color: rgb(32, 121, 77);\">2</span> is written in the first position: the position at which <span style=\"color: rgb(32, 121, 77);\">value_a</span> is defined in our function declaration (signature).\n",
    "</p>\n",
    "\n",
    "::::::::::::::::::::::::::::::::::::\n",
    "\n",
    "<p style='text-align: justify;'>\n",
    "Alternatively, we can use the name of each *input argument* to pass values onto them in any order. When we use the name of the *input argument* explicitly, we pass the values as *keyword arguments*. This is particularly useful in more complex functions where there are several *input arguments*.\n",
    "</p>\n",
    "\n",
    "Let us now use *keyword arguments* to pass values to our <kbd>add()</kbd> function:"
   ]
  },
  {
   "cell_type": "code",
   "execution_count": null,
   "id": "5f9f265c",
   "metadata": {},
   "outputs": [],
   "source": [
    "res = add(value_a=2, value_b=5)\n",
    "\n",
    "print(res)"
   ]
  },
  {
   "cell_type": "markdown",
   "id": "a102722c",
   "metadata": {},
   "source": [
    "Now, even if we change the order of our arguments, the function would still be able to associate the values to the correct keyword argument:"
   ]
  },
  {
   "cell_type": "code",
   "execution_count": null,
   "id": "23445dc6",
   "metadata": {},
   "outputs": [],
   "source": [
    "res = add(value_b=2, value_a=5)\n",
    "\n",
    "print(res)"
   ]
  },
  {
   "cell_type": "markdown",
   "id": "9abfedd9",
   "metadata": {},
   "source": [
    ":::::::::::::::::::::::::::::::::::: callout\n",
    "\n",
    "## Remember\n",
    "<p style='text-align: justify;'>\n",
    "Choose the order of your *input argument* wisely. This is important when your function can accept multiple *input arguments*.\n",
    "</p>\n",
    "\n",
    "<p style='text-align: justify;'>\n",
    "Suppose we want to define a 'division' function. It makes sense to assume that the first number passed to the function will be divided by the second number:\n",
    "</p>"
   ]
  },
  {
   "cell_type": "code",
   "execution_count": null,
   "id": "238299cb",
   "metadata": {},
   "outputs": [],
   "source": [
    "def divide(a, b):\n",
    "    return a / b"
   ]
  },
  {
   "cell_type": "markdown",
   "id": "e93ce566",
   "metadata": {},
   "source": [
    "It is also much less likely for someone to use *keywords* to pass arguments to this function -- that is, to say:"
   ]
  },
  {
   "cell_type": "code",
   "execution_count": null,
   "id": "797ab03e",
   "metadata": {},
   "outputs": [],
   "source": [
    "result = divide(a=2, b=4)"
   ]
  },
  {
   "cell_type": "markdown",
   "id": "8f721418",
   "metadata": {},
   "source": [
    "than it is for them to use positional arguments (without any keywords), that is:"
   ]
  },
  {
   "cell_type": "code",
   "execution_count": null,
   "id": "da87014b",
   "metadata": {},
   "outputs": [],
   "source": [
    "result = divide(2, 4)"
   ]
  },
  {
   "cell_type": "markdown",
   "id": "6df37105",
   "metadata": {},
   "source": [
    "But if we use an arbitrary order, then we risk running into problems:"
   ]
  },
  {
   "cell_type": "code",
   "execution_count": null,
   "id": "cf394338",
   "metadata": {},
   "outputs": [],
   "source": [
    "def divide_bad(denominator, numerator):\n",
    "    return numerator / denominator"
   ]
  },
  {
   "cell_type": "markdown",
   "id": "044f246c",
   "metadata": {},
   "source": [
    "<p style='text-align: justify;'>\n",
    "In which case, our function would perform perfectly well if we use *keyword arguments*; however, if we rely on positional arguments and common sense, then the result of the division would be calculated incorrectly.\n",
    "</p>"
   ]
  },
  {
   "cell_type": "code",
   "execution_count": null,
   "id": "a3a29ffd",
   "metadata": {
    "lines_to_next_cell": 0
   },
   "outputs": [],
   "source": [
    "result_a = divide_bad(numerator=2, denominator=4)\n",
    "result_b = divide_bad(2, 4)\n",
    "\n",
    "print(result_a == result_b)"
   ]
  },
  {
   "cell_type": "markdown",
   "id": "847d8879",
   "metadata": {
    "lines_to_next_cell": 0
   },
   "source": [
    "::::::::::::::::::::::::::::::::::::\n",
    "\n",
    "::::::::::::::::::::::::::::::: challenge\n",
    "\n",
    "## Practice Exercise 1 {#diy:func:tataBoxFinder}\n",
    "\n",
    "Implement a function called <span style=\"color: rgb(32, 121, 77);\">find_tata</span> that takes in one ```str``` argument called <span style=\"color: rgb(32, 121, 77);\">seq</span> and looks for the <span style=\"color: rgb(32, 121, 77);\">TATA</span>-box motif inside that sequence. Then:\n",
    "\n",
    "- if found, the function should return the index for the <span style=\"color: rgb(32, 121, 77);\">TATA</span>-box as output.\n",
    "\n",
    "- if not found, the function should *explicitly* return ```None```.\n",
    "\n",
    "**Example:**\n",
    "\n",
    "The function should behave, as follows:\n",
    "\n",
    "```\n",
    "sequence = 'GCAGTGTATAGTC'\n",
    "\n",
    "res = find_tata(sequence)\n",
    "\n",
    "```\n",
    "\n",
    "::::::::::::::::: solution\n",
    "\n",
    "## ANSWER"
   ]
  },
  {
   "cell_type": "code",
   "execution_count": null,
   "id": "a1fa53f3",
   "metadata": {
    "lines_to_next_cell": 0
   },
   "outputs": [],
   "source": [
    "def find_tata(seq):\n",
    "    tata_box = 'TATA'\n",
    "    result = seq.find(tata_box)\n",
    "\n",
    "    return result"
   ]
  },
  {
   "cell_type": "markdown",
   "id": "3ced37c9",
   "metadata": {},
   "source": [
    ":::::::::::::::::\n",
    "\n",
    ":::::::::::::::::::::::::::::::\n",
    "\n",
    "### **Documentation**\n",
    "<p style='text-align: justify;'>\n",
    "It is *essential* to write short, informative documentation for a functions that you are defining. There is no single *correct* way to document a code. However, as a general rule, a sufficiently informative documentation should tell us:\n",
    "</p>\n",
    "\n",
    "- what a function does;\n",
    "\n",
    "- the names of the input arguments, and what type each argument should be;\n",
    "\n",
    "- the output, and its type.\n",
    "\n",
    "<p style='text-align: justify;'>\n",
    "This documentation string is referred to as the *docstring*. It is always written inside triple quotation marks. The *docstring* must be implemented on the *very first line*, immediately following the declaration of the function, in order for it to be recognised as documentation:\n",
    "</p>"
   ]
  },
  {
   "cell_type": "code",
   "execution_count": null,
   "id": "aa30deb3",
   "metadata": {
    "results": "hold"
   },
   "outputs": [],
   "source": [
    "def add(value_a, value_b):\n",
    "    \"\"\"\n",
    "    Calculates the sum of two numeric values\n",
    "    given as inputs.\n",
    "\n",
    "    :param value_a: First value.\n",
    "    :type value_a: int, float\n",
    "    :param value_b: Second value.\n",
    "    :type value_b: int, float\n",
    "    :return: Sum of the two values.\n",
    "    :rtype: int, float\n",
    "    \"\"\"\n",
    "    result = value_a + value_b\n",
    "    return result"
   ]
  },
  {
   "cell_type": "markdown",
   "id": "959fc821",
   "metadata": {},
   "source": [
    ":::::::::::::::::::::::::::::::::::: callout\n",
    "## Remember\n",
    "<p style='text-align: justify;'>\n",
    "You might feel as though you would remember what your own functions do. Assuming this is often naive, however, as it is easy to forget the specifics of a function that you have written; particularly if it is complex and accepts multiple arguments. Functions that we implement tend to perform specialist, and often complex, interconnected processes. Whilst you might remember what a specific function does for a few days after writing it, you will likely have trouble remembering the details in a matter of months. And that is not even considering details regarding the type of the input argument(s) and those of the output. In addition, programmers often share their work with other fellow programmers; be it within their team or in the wider context of a publication, or even for distribution _via_ public repositories, as a community contribution. Whatever the reason, there is one golden rule: a function should not exist unless it is documented.\n",
    "</p>\n",
    "\n",
    "::::::::::::::::::::::::::::::::::::\n",
    "\n",
    "<p style='text-align: justify;'>\n",
    "Writing the *docstring* on the first line is important. Once a function is documented, we can use <kbd>help()</kbd>, which is a built-in function in Python, to access the documentations as follows:\n",
    "</p>"
   ]
  },
  {
   "cell_type": "code",
   "execution_count": null,
   "id": "936a1019",
   "metadata": {},
   "outputs": [],
   "source": [
    "help(add)"
   ]
  },
  {
   "cell_type": "markdown",
   "id": "a5cdd901",
   "metadata": {},
   "source": [
    "<p style='text-align: justify;'>\n",
    "For very simple functions -- like the <kbd>add()</kbd> function that we implemented above, it is sufficient to simplify the docstring into something straightforward, and concise. This is because it is fairly obvious what are the input and output arguments are, and what their respective types are/should be. For example:\n",
    "</p>"
   ]
  },
  {
   "cell_type": "code",
   "execution_count": null,
   "id": "39426097",
   "metadata": {},
   "outputs": [],
   "source": [
    "def add(value_a, value_b):\n",
    "    \"\"\"value_a + value_b -> number\"\"\"\n",
    "    result = value_a + value_b\n",
    "    return result"
   ]
  },
  {
   "cell_type": "code",
   "execution_count": null,
   "id": "b48b0b1a",
   "metadata": {},
   "outputs": [],
   "source": [
    "help(add)"
   ]
  },
  {
   "cell_type": "markdown",
   "id": "7db19ae6",
   "metadata": {},
   "source": [
    "::::::::::::::::::::::::::::::: challenge\n",
    "\n",
    "## Practice Exercise 2 {#diy:func:tataBoxFinderWithDocs}\n",
    "\n",
    "Re-implement the function you defined in the previous [Practice Exercise 1](#diy:func:tataBoxFinder) with appropriate documentation."
   ]
  },
  {
   "cell_type": "markdown",
   "id": "db1ea793",
   "metadata": {},
   "source": [
    "::::::::::::::::: solution\n",
    "\n",
    "## ANSWER"
   ]
  },
  {
   "cell_type": "code",
   "execution_count": null,
   "id": "63ccbda7",
   "metadata": {
    "results": "hold"
   },
   "outputs": [],
   "source": [
    "def find_tata(seq):\n",
    "    \"\"\"\n",
    "    Finds the location of the TATA-box,\n",
    "    if one exists, in a polynucleotide\n",
    "    sequence.\n",
    "\n",
    "    :param seq: Polynucleotide sequence.\n",
    "    :type seq: str\n",
    "    :return: Start of the TATA-box.\n",
    "    :rtype: int\n",
    "    \"\"\"\n",
    "    tata_box = 'TATA'\n",
    "    result = seq.find(tata_box)\n",
    "\n",
    "    return result"
   ]
  },
  {
   "cell_type": "markdown",
   "id": "6fb74e07",
   "metadata": {},
   "source": [
    ":::::::::::::::::\n",
    "\n",
    ":::::::::::::::::::::::::::::::\n",
    "\n",
    "### Optional arguments\n",
    "\n",
    "<p style='text-align: justify;'>\n",
    "We already know that most functions accept one or more input arguments. Sometimes a function does not need all of the arguments in order to perform a specific task.\n",
    "</p>\n",
    "\n",
    "<p style='text-align: justify;'>\n",
    "Such an example that we have already worked with is <kbd>print()</kbd>. We already know that this function may be utilised to display text on the screen. However, we also know that if we use the ```file``` argument, it will behave differently in that it will write the text inside a file instead of displaying it on the screen. Additionally, <kbd>print()</kbd> has other arguments such as ```sep``` or ```end```, which have specific default values of <span style=\"color: rgb(32, 121, 77);\">' '</span> (a single space) and <span style=\"color: rgb(32, 121, 77);\">\\\\n</span> (a linebreak) respectively.\n",
    "</p>\n",
    "\n",
    ":::::::::::::::::::::::::::::::::::: callout\n",
    "## Remember\n",
    "<p style='text-align: justify;'>\n",
    "Input arguments that are necessary to call a specific function are referred to as *non-default arguments*. Those whose definition is not mandatory for a function to be called are known as *default* or *optional arguments*.\n",
    "</p>\n",
    "\n",
    "<p style='text-align: justify;'>\n",
    "Optional arguments may *only* be defined *after* non-default arguments (if any). If this order is not respected, a ```SyntaxError``` will be raised.\n",
    "</p>\n",
    "\n",
    "::::::::::::::::::::::::::::::::::::\n",
    "\n",
    ":::::::::::::::::::::::::::::::::::: callout\n",
    "## Advanced Topic\n",
    "<p style='text-align: justify;'>\n",
    "The default value defined for *optional arguments* can theoretically be an instance of any type in Python. However, it is better and safer to only use *immutable* types (as demonstrated in [Table](02-input_output.Rmd#tb:types:nativeTypes)) for default values. The rationale behind this principle is beyond the scope of this course, but you can read more about it in the [official documentation](https://docs.python.org/3/tutorial/controlflow.html\\#default-argument-values).\n",
    "</p>\n",
    "\n",
    "::::::::::::::::::::::::::::::::::::\n",
    "\n",
    "<p style='text-align: justify;'>\n",
    "In order to define functions with optional arguments, we need to assign a default value to them. Remember: input arguments are variables with a specific scope. As a result, we can treat our input argument as variables and assign them a value:\n",
    "</p>"
   ]
  },
  {
   "cell_type": "code",
   "execution_count": null,
   "id": "147783bc",
   "metadata": {
    "results": "hold"
   },
   "outputs": [],
   "source": [
    "def prepare_seq(seq, name, upper=False):\n",
    "    \"\"\"\n",
    "    Prepares a sequence to be displayed.\n",
    "\n",
    "    :param seq: Sequence\n",
    "    :type seq: str\n",
    "    :param name: Name of the sequence.\n",
    "    :type name: str\n",
    "    :param upper: Convert sequence to uppercase characters (default: False)\n",
    "    :type upper: bool\n",
    "    :return: Formatted string containing the sequence.\n",
    "    :rtype: str\n",
    "    \"\"\"\n",
    "    template = 'The sequence of {} is: {}'\n",
    "\n",
    "    if not upper:\n",
    "        response = template.format(name, seq)\n",
    "    else:\n",
    "        seq_upper = seq.upper()\n",
    "        response = template.format(name, seq_upper)\n",
    "\n",
    "    return response"
   ]
  },
  {
   "cell_type": "markdown",
   "id": "82b34c4a",
   "metadata": {},
   "source": [
    "Now if we don't explicitly define ```upper``` when calling <kbd>prepare_seq()</kbd>, its value is automatically considered to be ```False```:"
   ]
  },
  {
   "cell_type": "code",
   "execution_count": null,
   "id": "d60c5e0f",
   "metadata": {},
   "outputs": [],
   "source": [
    "sequence = 'TagCtGC'\n",
    "\n",
    "prepped = prepare_seq(sequence, 'DNA')\n",
    "\n",
    "print(prepped)"
   ]
  },
  {
   "cell_type": "markdown",
   "id": "2e526896",
   "metadata": {},
   "source": [
    "If we change the default value of ```False``` for ```upper``` and set to ```True```, our sequence should be converted to upper case characters:"
   ]
  },
  {
   "cell_type": "code",
   "execution_count": null,
   "id": "29a40984",
   "metadata": {
    "lines_to_next_cell": 2
   },
   "outputs": [],
   "source": [
    "prepped = prepare_seq(sequence, 'DNA', upper=True)\n",
    "\n",
    "print(prepped)"
   ]
  },
  {
   "cell_type": "markdown",
   "id": "3969d879",
   "metadata": {},
   "source": [
    "::::::::::::::::::::::::::::::: challenge\n",
    "\n",
    "## Practice Exercise 3\n",
    "\n",
    "Modify the function from the previous [Practice Exercise 2](#diy:func:tataBoxFinderWithDocs) to accept an *optional argument* called ```upper```, with a default value of ```False```. Thereafter:"
   ]
  },
  {
   "cell_type": "markdown",
   "id": "49fef236",
   "metadata": {},
   "source": [
    "- if ```upper``` is ```False```, then the function should perform as it already does (similar to the previous [Practice Exercise 2](#diy:func:tataBoxFinderWithDocs));\n",
    "\n",
    "- if ```upper``` is ```True```, then the function should convert the sequence to contain only uppercase characters, before it looks for the <span style=\"color: rgb(32, 121, 77);\">TATA</span>-box.\n",
    "\n",
    "Do not forget to update the *docstring* of your function."
   ]
  },
  {
   "cell_type": "markdown",
   "id": "b105b8a4",
   "metadata": {},
   "source": [
    "::::::::::::::::: solution\n",
    "\n",
    "## ANSWER"
   ]
  },
  {
   "cell_type": "code",
   "execution_count": null,
   "id": "99672f9a",
   "metadata": {
    "lines_to_next_cell": 0,
    "results": "hold"
   },
   "outputs": [],
   "source": [
    "def find_tata(seq, upper=False):\n",
    "    \"\"\"\n",
    "    Finds the location of the TATA-box,\n",
    "    if one exists, in a polynucleotide\n",
    "    sequence.\n",
    "\n",
    "    :param seq: Polynucleotide sequence.\n",
    "    :type seq: str\n",
    "    :param upper: Whether or not to\n",
    "     homogenise the sequence\n",
    "     to upper-case characters.\n",
    "    :type upper: bool\n",
    "    :return: Start of the TATA-box.\n",
    "    :rtype: int\n",
    "    \"\"\"\n",
    "    tata_box = 'TATA'\n",
    "\n",
    "    if not upper:\n",
    "        result = seq.find(tata_box)\n",
    "    else:\n",
    "        seq_prepped = seq.upper()\n",
    "        result = seq_prepped.find(tata_box)\n",
    "\n",
    "    return result"
   ]
  },
  {
   "cell_type": "markdown",
   "id": "90d6a6df",
   "metadata": {},
   "source": [
    ":::::::::::::::::\n",
    "\n",
    ":::::::::::::::::::::::::::::::\n",
    "\n",
    ":::::::::::::::::::::::::::::::::::: callout\n",
    "## Remember\n",
    "<p style='text-align: justify;'>\n",
    "It is not necessary to implement your functions in this way. It is, however, a common practice among programmers in any programming language. For this reason, you should be at least be familiar with the technique, as you will likely encounter it at some point.\n",
    "</p>\n",
    "\n",
    "::::::::::::::::::::::::::::::::::::\n",
    "\n",
    "<p style='text-align: justify;'>\n",
    "It is important to note that it is also possible to have more than one <kbd>return</kbd> in a function. This is useful when we need to account for different outcomes; such as the one we saw in the previous example with <kbd>prepare_seq()</kbd>.\n",
    "</p>\n",
    "\n",
    "This means that we can simplify the process as follows:"
   ]
  },
  {
   "cell_type": "code",
   "execution_count": null,
   "id": "2d9d7ecb",
   "metadata": {
    "results": "hold"
   },
   "outputs": [],
   "source": [
    "def prepare_seq(seq, name, upper=False):\n",
    "    \"\"\"\n",
    "    Prepares a sequence to be displayed.\n",
    "\n",
    "    :param seq: Sequence\n",
    "    :type seq: str\n",
    "    :param name: Name of the sequence.\n",
    "    :type name: str\n",
    "    :param upper: Convert sequence to uppercase characters (default: False)\n",
    "    :type upper: bool\n",
    "    :return: Formated string containing the sequence.\n",
    "    :rtype: str\n",
    "    \"\"\"\n",
    "    template = 'The sequence of {} is: {}'\n",
    "\n",
    "    if not upper:\n",
    "        return template.format(name, seq)\n",
    "\n",
    "    seq_upper = seq.upper()\n",
    "    return template.format(name, seq_upper)"
   ]
  },
  {
   "cell_type": "markdown",
   "id": "6e17e38c",
   "metadata": {},
   "source": [
    "Notice that we got rid of <span style=\"color: rgb(32, 121, 77);\">response</span>. Here is a description of what is happening:\n",
    "\n",
    "- In this context, if the conditional statement holds --- i.e. when ```upper``` is ```False```--- we enter the <kbd>if</kbd> block. In this case, we reach the first ```return``` statement. It is at this point, that function returns the corresponding results, and immediately terminates.\n",
    "\n",
    "- Conversely, if the conditional statement does not hold --- i.e. where ```upper``` is ```True``` --- we skip the <kbd>if</kbd> block altogether and proceed. It is only then that we arrive at the second ```return``` statement where the alternative set of results are prepared."
   ]
  },
  {
   "cell_type": "markdown",
   "id": "87e16b0a",
   "metadata": {},
   "source": [
    "This does not alter the functionality of the function, in any way. However, in complex functions which can be called repetitively (*e.g.*  inside <kbd>for</kbd> loop), this technique may improve the performance of the function.\n",
    "\n",
    "Now if we call our function, it will behave in exactly the same way as it did before:"
   ]
  },
  {
   "cell_type": "code",
   "execution_count": null,
   "id": "f68fd4d3",
   "metadata": {
    "lines_to_next_cell": 2
   },
   "outputs": [],
   "source": [
    "sequence = 'TagCtGC'\n",
    "\n",
    "prepped = prepare_seq(sequence, 'DNA')\n",
    "\n",
    "print(prepped)"
   ]
  },
  {
   "cell_type": "code",
   "execution_count": null,
   "id": "af418bca",
   "metadata": {},
   "outputs": [],
   "source": [
    "prepped = prepare_seq(sequence, 'DNA', upper=True)\n",
    "\n",
    "print(prepped)"
   ]
  },
  {
   "cell_type": "markdown",
   "id": "2b0e3500",
   "metadata": {},
   "source": [
    "### **Interconnectivity of functions**\n",
    "Functions can also call other functions. This is what makes them extremely powerful tools that may be utilised to address an unlimited number of problems.\n",
    "\n",
    "This allows us to devise a network of functions that can all call each other to perform different tasks at different times. This network of functions can then collectively contribute to the production of a single, final answer.\n",
    "\n",
    ":::::::::::::::::::::::::::::::::::: callout\n",
    "## Remember\n",
    "Functions should have specialist functionalities.They should ideally be written to perform one task, and one task only.\n",
    "\n",
    "So in instances where more operations are required, it is advised not to write more code to execute these, into one function. This would defy the ethos of functional programming. Instead, consider writing more functions that contain less code, and perform more specialist functionalities.\n",
    "\n",
    "::::::::::::::::::::::::::::::::::::\n",
    "\n",
    ":::::::::::::::::::::::::::::::::::: discussion\n",
    "## EXAMPLE: A mini toolbox for statistics\n",
    "\n",
    "![](fig/mini_toolbox.png)"
   ]
  },
  {
   "cell_type": "code",
   "execution_count": null,
   "id": "b133d471",
   "metadata": {
    "results": "hold"
   },
   "outputs": [],
   "source": [
    "def mean(arr):\n",
    "    \"\"\"\n",
    "    Calculates the mean of an array.\n",
    "\n",
    "    :param arr: Array of numbers.\n",
    "    :type arr: list, tuple, set\n",
    "    :return: Mean of the values in the array.\n",
    "    :rtype: float\n",
    "    \"\"\"\n",
    "    summation = sum(arr)\n",
    "    length = len(arr)\n",
    "\n",
    "    result = summation / length\n",
    "\n",
    "    return result"
   ]
  },
  {
   "cell_type": "markdown",
   "id": "459cf9b9",
   "metadata": {},
   "source": [
    "Now that we have function to calculate the *mean*, we can go ahead and write a function to calculate the variance; which itself relies on *mean*:"
   ]
  },
  {
   "cell_type": "code",
   "execution_count": null,
   "id": "131780a9",
   "metadata": {
    "results": "hold"
   },
   "outputs": [],
   "source": [
    "def variance(arr):\n",
    "    \"\"\"\n",
    "    Calculates the variance of an array.\n",
    "\n",
    "    :param arr: Array of numbers.\n",
    "    :type arr: list, tuple, set\n",
    "    :return: Variance of the values in the array.\n",
    "    :rtype: float\n",
    "    \"\"\"\n",
    "    arr_mean = mean(arr)\n",
    "    denominator = len(arr)\n",
    "\n",
    "    numerator = 0\n",
    "\n",
    "    for num in arr:\n",
    "        numerator += (num - arr_mean) ** 2\n",
    "\n",
    "    result = numerator / denominator\n",
    "\n",
    "    return result"
   ]
  },
  {
   "cell_type": "markdown",
   "id": "e89ea83a",
   "metadata": {},
   "source": [
    "Now we have two functions, which can be used to calculate the *variance*, or the *mean*, for any array of numbers.\n",
    "\n",
    "Remember that testing a function is inherent to successful design. So let’s test our functions"
   ]
  },
  {
   "cell_type": "code",
   "execution_count": null,
   "id": "34492880",
   "metadata": {},
   "outputs": [],
   "source": [
    "numbers = [1, 5, 0, 14.2, -23.344, 945.23, 3.5e-2]"
   ]
  },
  {
   "cell_type": "code",
   "execution_count": null,
   "id": "0726d419",
   "metadata": {},
   "outputs": [],
   "source": [
    "numbers_mean = mean(numbers)\n",
    "\n",
    "print(numbers_mean)"
   ]
  },
  {
   "cell_type": "code",
   "execution_count": null,
   "id": "051ceab7",
   "metadata": {},
   "outputs": [],
   "source": [
    "numbers_variance = variance(numbers)\n",
    "\n",
    "print(numbers_variance)"
   ]
  },
  {
   "cell_type": "markdown",
   "id": "032cbec3",
   "metadata": {},
   "source": [
    "Now that we have a function to calculate the *variance*, we can easily proceed to calculate the *standard deviation*, as well.\n",
    "\n",
    "The standard deviation is calculated from the square root of variance. We can easily implement this in a new function as follows:"
   ]
  },
  {
   "cell_type": "code",
   "execution_count": null,
   "id": "e1915777",
   "metadata": {
    "results": "hold"
   },
   "outputs": [],
   "source": [
    "def stan_dev(arr):\n",
    "    \"\"\"\n",
    "    Calculates the standard deviation of an array.\n",
    "\n",
    "    :param arr: Array of numbers.\n",
    "    :type arr: list, tuple, set\n",
    "    :return: Standard deviation of the values in the array.\n",
    "    :rtype: float\n",
    "    \"\"\"\n",
    "    from math import sqrt\n",
    "\n",
    "    var = variance(arr)\n",
    "\n",
    "    result = sqrt(var)\n",
    "\n",
    "    return result"
   ]
  },
  {
   "cell_type": "markdown",
   "id": "474c8d36",
   "metadata": {},
   "source": [
    "Now let's see how it works, in practice:"
   ]
  },
  {
   "cell_type": "code",
   "execution_count": null,
   "id": "60219578",
   "metadata": {},
   "outputs": [],
   "source": [
    "numbers_std = stan_dev(numbers)\n",
    "\n",
    "print(numbers_std)"
   ]
  },
  {
   "cell_type": "markdown",
   "id": "b2740923",
   "metadata": {},
   "source": [
    "::::::::::::::::::::::::::::::::::::"
   ]
  },
  {
   "cell_type": "markdown",
   "id": "b1c2aa35",
   "metadata": {},
   "source": [
    "::::::::::::::::::::::::::::::: challenge\n",
    "\n",
    "## Practice Exercise 4\n",
    "\n",
    "Write a function that --- given an array of any values --- produces a dictionary containing the values within the array as *keys*, and the count of those values in the original array (their frequencies), as *values*.\n",
    "\n",
    "**Example:**\n",
    "\n",
    "For the following array:"
   ]
  },
  {
   "cell_type": "code",
   "execution_count": null,
   "id": "b6c6c86f",
   "metadata": {},
   "outputs": [],
   "source": [
    "values = [1, 1.3, 1, 1, 5, 5, 1.3, 'text', 'text', 'something']"
   ]
  },
  {
   "cell_type": "markdown",
   "id": "45dc51f6",
   "metadata": {},
   "source": [
    "the function should return the above dictionary:\n",
    "\n",
    "**Suggestion:** You can add this as a new tool to the statistics mini toolbox.\n",
    "\n",
    "::::::::::::::::: solution\n",
    "\n",
    "## ANSWER"
   ]
  },
  {
   "cell_type": "code",
   "execution_count": null,
   "id": "f7391fb6",
   "metadata": {
    "lines_to_next_cell": 0,
    "results": "hold"
   },
   "outputs": [],
   "source": [
    "def count_values(arr):\n",
    "    \"\"\"\n",
    "    Converts an array into a dictionary of\n",
    "    the unique members (as keys) and their\n",
    "    counts (as values).\n",
    "\n",
    "    :param arr: Array containing repeated\n",
    "                members.\n",
    "    :type arr: list, tuple\n",
    "    :return: Dictionary of unique members\n",
    "\t\t         with counts.\n",
    "    :rtype: dict\n",
    "    \"\"\"\n",
    "    unique = set(arr)\n",
    "    arr_list = list(arr)\n",
    "\n",
    "    result = dict()\n",
    "\n",
    "    for num in unique:\n",
    "        result[num] = arr_list.count(num)\n",
    "\n",
    "    return result"
   ]
  },
  {
   "cell_type": "markdown",
   "id": "b09e6a76",
   "metadata": {},
   "source": [
    ":::::::::::::::::\n",
    "\n",
    ":::::::::::::::::::::::::::::::\n"
   ]
  },
  {
   "cell_type": "markdown",
   "id": "ac7f5796",
   "metadata": {},
   "source": [
    "## Exercises\n",
    ":::::::::::::::::::::::::::::::::::::::: challenge\n",
    "\n",
    "#### End of chapter Exercises\n",
    "\n",
    "Write a function with the following features:"
   ]
  },
  {
   "cell_type": "markdown",
   "id": "af71cc19",
   "metadata": {},
   "source": [
    "- Call the function <kbd>get_basic_stats()</kbd> and let it take one input argument which may contain any number of input arrays, *e.g.* a tuple of arrays.\n",
    "\n",
    "- Using a for loop, for each of the arrays calculate the mean and the variance for each of the arrays using the functions 'mean' and 'variance', given above, *i.e.* call these functions from within the function <kbd>get_basic_stats()</kbd>.\n",
    "\n",
    "- Calculate the standard deviation for each array as the square root of the variance. You will have to import the function ```sqrt``` from module ```math```.\n",
    "\n",
    "- Return a single array containing (in that order) the mean, the variance and the standard deviation for each array."
   ]
  },
  {
   "cell_type": "markdown",
   "id": "33ad75f7",
   "metadata": {},
   "source": [
    "To test the function, combine three arrays in a tuple as follows:"
   ]
  },
  {
   "cell_type": "code",
   "execution_count": null,
   "id": "92a8d99e",
   "metadata": {},
   "outputs": [],
   "source": [
    "my_arrays = (\n",
    "    [1, 2, 3, 4, 5],\n",
    "    [7, 7, 7, 7],\n",
    "    [1.0, 0.9, 1.2, 1.12, 0.95, 0.76],\n",
    ")"
   ]
  },
  {
   "cell_type": "markdown",
   "id": "ad0ac83a",
   "metadata": {},
   "source": [
    "Call the function <kbd>get_basic_stats()</kbd> with this tuple as an argument, and write the output to a variable. Display the results in the following form:\n",
    "\n",
    "```\n",
    "STD of array' index, ':' STD\n",
    "```\n",
    "\n",
    "The result for the above arrays should be:\n",
    "\n",
    "```\n",
    "STD of array 0 :  1.4142135623730951\n",
    "STD of array 1 :  0.0\n",
    "STD of array 2 :  0.14357537702854514\n",
    "```\n",
    "\n",
    "::::::::::::::::::::: solution\n",
    "\n",
    "## Solutions will be provided once the submitted assignments are marked and returned to either grade **pass** or **distinction**.\n",
    "\n",
    ":::::::::::::::::::::\n",
    "\n",
    "::::::::::::::::::::::::::::::::::::::::\n",
    "\n",
    "::::::::::::::::::::::::::::::::::::: keypoints\n",
    "\n",
    "- Functions can help to make repetitive tasks efficient, allowing the passing of values into whole blocks of code, with a simple function call. \n",
    "- Keyword <kbd>def</kbd> is used to write a function.\n",
    "- Optional arguments do not require prior definition.\n",
    "- The potential interconnectivity of functions can make them very powerful.\n",
    "::::::::::::::::::::::::::::::::::::::::::::::::"
   ]
  },
  {
   "cell_type": "markdown",
   "id": "706fd86e",
   "metadata": {},
   "source": [
    "[r-markdown]: https://rmarkdown.rstudio.com/"
   ]
  }
 ],
 "metadata": {
  "jupytext": {
   "cell_metadata_filter": "results,-all",
   "main_language": "python",
   "notebook_metadata_filter": "-all"
  }
 },
 "nbformat": 4,
 "nbformat_minor": 5
}
