{
 "cells": [
  {
   "cell_type": "raw",
   "id": "7f23ce95",
   "metadata": {},
   "source": [
    "---\n",
    "title: \"Iterations\"\n",
    "teaching: 58\n",
    "exercises: 2\n",
    "---"
   ]
  },
  {
   "cell_type": "markdown",
   "id": "e3bb4672",
   "metadata": {},
   "source": [
    "[**Download Chapter notebook (ipynb)**](05-iterations.ipynb)\n",
    "\n",
    "[<span style=\"color: rgb(255, 0, 0);\">**Mandatory Lesson Feedback Survey**</span>](https://docs.google.com/forms/d/e/1FAIpQLSdr0capF7jloJhPH3Pki1B3LZoKOG16poOpuVJ7SL2LkwLHQA/viewform?pli=1)"
   ]
  },
  {
   "cell_type": "markdown",
   "id": "89579c8b",
   "metadata": {},
   "source": [
    ":::::::::::::::::::::::::::::::::::::: questions\n",
    "\n",
    "- What do we mean by *iterations* and *loops*?\n",
    "- How are ```for```-loops implemented?\n",
    "- Can conditional statements be used in iterations?\n",
    "- What are ```while```-loops, and how these used?\n",
    "\n",
    "::::::::::::::::::::::::::::::::::::::::::::::::\n"
   ]
  },
  {
   "cell_type": "markdown",
   "id": "42ae5257",
   "metadata": {},
   "source": [
    "::::::::::::::::::::::::::::::::::::: objectives\n",
    "\n",
    "- Understanding the concepts behind iterations and loops.\n",
    "- Learning the processes involved in ```for```-loops implementation.\n",
    "- Building conditional statements into loops.\n",
    "- Understanding the concept of ```while```-loops, and when to use them.\n",
    "\n",
    "::::::::::::::::::::::::::::::::::::::::::::::::\n",
    "\n",
    "<br>\n",
    "<p align = \"center\">\n",
    "<iframe width=\"560\" height=\"315\" src=\"https://www.youtube.com/embed/40mryCzIBwc\" title=\"YouTube video player\" frameborder=\"0\" allow=\"accelerometer; autoplay; clipboard-write; encrypted-media; gyroscope; picture-in-picture\" allowfullscreen></iframe>\n",
    "</p>\n",
    "<br>\n",
    "<p align = \"center\">\n",
    "<iframe width=\"560\" height=\"315\" src=\"https://www.youtube.com/embed/-Ex4JtqhWLw\" title=\"YouTube video player\" frameborder=\"0\" allow=\"accelerometer; autoplay; clipboard-write; encrypted-media; gyroscope; picture-in-picture\" allowfullscreen></iframe>\n",
    "</p>\n",
    "<br>\n",
    "This chapter assumes that you are familiar with the following concepts in Python:\n",
    "\n",
    ":::::::::::::::::: prereq\n",
    "- [I/O Operations](02-input_output.Rmd#operations)\n",
    "- [Variables and Types](02-input_output.Rmd#varTypes)\n",
    "- [Mathematical Operation](02-input_output.Rmd#math_ops)\n",
    "- [Logical Operations](02-input_output.Rmd#subsec:logicalOperatons)\n",
    "- [Indentation Rule](03-conditional_statements.Rmd#subsubsec:indentationRule)\n",
    "- [Conditional Statements](03-conditional_statements.Rmd)\n",
    "- [Arrays](04-arrays.Rmd)\n",
    "\n",
    "::::::::::::::::::\n",
    "\n",
    "<p style='text-align: justify;'>\n",
    "Additionally, make sure that you are comfortable with the principles of [indexing](04-arrays.Rmd#sec:list:indexing) in arrays before commencing this lesson. It is very important that you have a good understanding of arrays and sequences, because the concept of iteration in programming deals *almost* exclusively with these subjects.\n",
    "</p>\n",
    "\n",
    ":::::::::::::::::::::::::::::::::::: callout\n",
    "## Note\n",
    "<p style='text-align: justify;'>\n",
    "You can practice everything in this lesson as you have been doing so far. However, if you find it hard to grasp some of the concepts, do not worry. It takes practice. To help you with that, [Philip Guo](http://www.pgbovine.net) from UC San Diego (Calif., USA) has developed [PythonTutor.com](http://www.pythontutor.com/visualize.html\\#mode=edit) - an excellent online tool for learning Python. On that website, write, or paste your code into the editor, and click *Visualize Execution*. In the new page, use the *forward* and *back* buttons to see a step-by-step graphical visualisation of the processes that occur during the execution of your code. Try it on the examples in this section.\n",
    "</p>\n",
    "\n",
    "::::::::::::::::::::::::::::::::::::"
   ]
  },
  {
   "cell_type": "markdown",
   "id": "28a79828",
   "metadata": {},
   "source": [
    "## The concept\n",
    "<p style='text-align: justify;'>\n",
    "We make use of iterations and loops in programming to perform repetitive operations. A repetitive operation is where one or several defined operations that are repeated multiple times.\n",
    "</p>\n",
    "\n",
    "For instance, suppose we have a ```list``` of 5 numbers as follows:\n",
    "\n",
    "```\n",
    "numbers = [-3, -2, 5, 0, 12]\n",
    "```\n",
    "\n",
    "Now we would like to multiply each number by 2. Based on what we have learned thus far, this is how we would approach this problem:"
   ]
  },
  {
   "cell_type": "code",
   "execution_count": null,
   "id": "b0c4c648",
   "metadata": {},
   "outputs": [],
   "source": [
    "numbers = [-3, -2, 5, 0, 12]\n",
    "\n",
    "numbers[0] *= 2\n",
    "numbers[1] *= 2\n",
    "numbers[2] *= 2\n",
    "numbers[3] *= 2\n",
    "numbers[4] *= 2\n",
    "\n",
    "print(numbers)"
   ]
  },
  {
   "cell_type": "markdown",
   "id": "27f5d82a",
   "metadata": {},
   "source": [
    "<p style='text-align: justify;'>\n",
    "Whilst this does the job, it is clearly very tedious. Furthermore, if we have an array of several thousand members, this approach quickly becomes infeasible.\n",
    "</p>\n",
    "\n",
    "The process of multiplying individual members of our array by 2 is a very simple example of a repetitive operations."
   ]
  },
  {
   "cell_type": "markdown",
   "id": "c0f7bfab",
   "metadata": {},
   "source": [
    ":::::::::::::::::::::::::::::::::::: callout\n",
    "## Remember\n",
    "In programming, there is a universally appreciated golden principle known as the **DRY** rule; and this is what it stands for:\n",
    "\n",
    "<p align = \"center\">\n",
    "**D**on't **R**epeat **Y**ourself\n",
    "</p>\n",
    "\n",
    "So if you find yourself doing something again and again, it is fair to assume that there might a better way of getting the results you're looking for.\n",
    "\n",
    "Some programmers (with questionable motives) have created **WET** rule too. Find out more about DRY and WET from [Wikipedia](https://en.wikipedia.org/wiki/Don\\%27t_repeat_yourself).\n",
    "\n",
    "::::::::::::::::::::::::::::::::::::\n",
    "\n",
    "<p style='text-align: justify;'>\n",
    "There are some universal tools for iterations that exist in all programming languages --- *e.g.* <kbd>for</kbd> and <kbd>while</kbd>-loops. There are also other tools such as vectorisation or generators, that are often unique to one or several specific programming languages.\n",
    "</p>\n",
    "\n",
    "<p style='text-align: justify;'>\n",
    "In this section of the lesson, we will discuss iterations via <kbd>for</kbd> and <kbd>while</kbd>-loops, and review some real-world examples that may only be addressed using iterative processes.\n",
    "</p>\n",
    "\n",
    "## for-loops {#for-loop}\n",
    "\n",
    "<p style='text-align: justify;'>\n",
    "There is evidence that up to 80\\% of all conventional iterations are implemented as <kbd>for</kbd>-loops. Whether or not it is the best choice in of all these cases is subject to opinion. What is important, however, is to learn the difference between the two methods, and feel comfortable with how they work.\n",
    "</p>\n",
    "\n",
    "<p style='text-align: justify;'>\n",
    "Implementation of <kbd>for</kbd>-loops in Python is simple compared to other programming languages. It essentially iterates through an existing *iterable* variable --- (such as an array) and retrieves the values from it one by one, from the beginning through to the end.\n",
    "</p>\n",
    "\n",
    ":::::::::::::::::::::::::::::::::::: callout\n",
    "## Remember\n",
    "<p style='text-align: justify;'>\n",
    "In Python, *iterable* is a term used to refer to a variable that can be iterated through. Any variable type that can be used in a <kbd>for</kbd>-loop *without* any modifications, is therefore considered an *iterable*.\n",
    "</p>\n",
    "\n",
    "<p style='text-align: justify;'>\n",
    "Most arrays and sequences are iterable. See [Table](02-input_output.Rmd#fig:nativeTypes) to find out which native types in Python are iterable. A rule of thumb is that if an array or a sequence is numerically indexed (e.g.  ```list```, ```tuple```, or ```str```), then it is considered an iterable.\n",
    "</p>\n",
    "\n",
    "::::::::::::::::::::::::::::::::::::\n",
    "\n",
    "![Flowchart of a ```for```–loop workflow applied to a ```list``` array.](fig/flowchart1.png){#flowchart}"
   ]
  },
  {
   "cell_type": "markdown",
   "id": "eff85c3f",
   "metadata": {},
   "source": [
    "[Figure](#flowchart) illustrates a flowchart to visualise the workflow of an iterative process using <kbd>for</kbd>-loops in Python. The process depicted in the flowchart may be described as follows:\n"
   ]
  },
  {
   "cell_type": "markdown",
   "id": "703976b5",
   "metadata": {},
   "source": [
    ":::::::::::::::::::::::::::::::::::: discussion\n",
    "## Process\n",
    "1. A ```for```-loop is initialised using an array or a sequence, and begins its process by sequentially going through the values, starting at the array’s first row.\n",
    "\n",
    "2. **Iterative Process:** The value of the *current row* is retrieved and given the alias <span style=\"color: rgb(32, 121, 77);\">item</span>, which now represents a single variable within the context of the loop.\n",
    "\n",
    "3. **Repetitive Operation(s):** Designated operations are performed using the value of <span style=\"color: rgb(32, 121, 77);\">item</span>:\n",
    "\n",
    "    - <span style=\"color: rgb(32, 121, 77);\">item *= 2</span>\n",
    "\n",
    "4. **Loop Condition:** The <kbd>for</kbd>-loop *automatically* checks whether or not it has reached the last row of the sequence. Depending on the outcome of this check:\n",
    "\n",
    "    - **NO (last value not reached):** Move onto the next row and *repeat* the process from step 2.\n",
    "    - **YES (last value reached):** Exit the loop.\n",
    "\n",
    "::::::::::::::::::::::::::::::::::::\n",
    "\n",
    "We write this process in Python as follows:"
   ]
  },
  {
   "cell_type": "code",
   "execution_count": null,
   "id": "9c183dd7",
   "metadata": {},
   "outputs": [],
   "source": [
    "numbers = [3, 5, 6.3, 9, 15, 3.4]\n",
    "\n",
    "for item in numbers:\n",
    "    item *= 2\n",
    "    # Display the item to see the results:\n",
    "    print(item)\n"
   ]
  },
  {
   "cell_type": "markdown",
   "id": "cbc44160",
   "metadata": {},
   "source": [
    "<p style='text-align: justify;'>\n",
    "We can see that the result for each iteration is displayed on a new line. [Example](#ExtExmp) outlines other such applications and expands on repetitive operations that may be simplified using <kbd>for</kbd>-loops.\n",
    "</p>"
   ]
  },
  {
   "cell_type": "markdown",
   "id": "0ec2a1bf",
   "metadata": {},
   "source": [
    ":::::::::::::::::::::::::::::::::::: callout\n",
    "## Advanced Topic\n",
    "<p style='text-align: justify;'>\n",
    "An iterable is a Python variable that contains the built--in method ```.__iter__()```. Methods starting and ending with two underscores (dunderscores) are also known as *magic methods* in Python. See the official [Python documentations](https://docs.python.org/3/tutorial/classes.html\\#iterators) for additional information.\n",
    "</p>\n",
    "\n",
    "::::::::::::::::::::::::::::::::::::"
   ]
  },
  {
   "cell_type": "markdown",
   "id": "99123186",
   "metadata": {},
   "source": [
    ":::::::::::::::::::::::::::::::::::: callout\n",
    "## Remember\n",
    "A <kbd>for</kbd>-loop is always initialised as:\n",
    "\n",
    "```\n",
    "for variable_name in an_array:\n",
    "  # An indented block of processes\n",
    "  # we would like to perform on the\n",
    "  # members of our array one by one.\n",
    "```\n",
    "\n",
    "<p style='text-align: justify;'>\n",
    "where ```an_array``` is an *iterable* variable, and ```variable_name``` is the name of the variable we temporarily assign to a member of ```an_array``` that corresponds to the current loop cycle (iteration). The number of loop cycles performed by a <kbd>for</kbd>-loop is equal to the length (number of members) of the array that we are iterating through, which in this case is called ```an_array```.\n",
    "</p>\n",
    "\n",
    "<p style='text-align: justify;'>\n",
    "You can think of each iteration cycle as pulling out a row from the table that is our array (as exemplified in the lesson on [arrays](04-arrays.Rmd)) and temporarily assigning its corresponding value to a variable until the next iteration cycle.\n",
    "</p>\n",
    "\n",
    "See subsection [List Members](04-arrays.Rmd#listMem) to find the length of an array.\n",
    "\n",
    "::::::::::::::::::::::::::::::::::::\n",
    "\n",
    "::::::::::::::::::::::::::::::: challenge\n",
    "\n",
    "## Practice Exercise 1\n",
    "\n",
    "Given:"
   ]
  },
  {
   "cell_type": "code",
   "execution_count": null,
   "id": "e9e7e102",
   "metadata": {},
   "outputs": [],
   "source": [
    "peptides = [\n",
    "    'GYSAR',\n",
    "    'HILNEKRILQAID',\n",
    "    'DNSYLY'\n",
    "\t\t]"
   ]
  },
  {
   "cell_type": "markdown",
   "id": "6bb06611",
   "metadata": {},
   "source": [
    "write a <kbd>for</kbd>-loop to display each item in <span style=\"color: rgb(32, 121, 77);\">peptides</span> alongside its index and length. Display the results in the following format:\n",
    "\n",
    "```Peptide XXXX at index X contains X amino acids.```\n",
    "\n",
    "::::::::::::::::: solution\n",
    "\n",
    "## ANSWER\n",
    "```{python}\n",
    "for sequence in peptides:\n",
    "    length = len(sequence)\n",
    "    index = peptides.index(sequence)\n",
    "\n",
    "    print('Peptide', sequence, 'at index', index, 'contains', length, 'amino acids.')\n",
    "```\n",
    "\n",
    ":::::::::::::::::\n",
    "\n",
    ":::::::::::::::::::::::::::::::\n",
    "\n",
    ":::::::::::::::::::::::::::::::::::: discussion\n",
    "\n",
    "### Extended example of iterations using ```for```-loops {#ExtExmp}\n",
    "When using a <kbd>for</kbd>-loop, we can also reference other variables that have already been defined outside of the loop block:"
   ]
  },
  {
   "cell_type": "code",
   "execution_count": null,
   "id": "abeb467f",
   "metadata": {},
   "outputs": [],
   "source": [
    "numbers = [3, 5, 6.3, 9, 15, 3.4]\n",
    "counter = 0\n",
    "\n",
    "for item in numbers:\n",
    "    item *= 2\n",
    "\n",
    "    # Display the item to see the results:\n",
    "    print('Iteration number', counter, ':', item)\n",
    "\n",
    "    counter += 1"
   ]
  },
  {
   "cell_type": "markdown",
   "id": "f64c5bf8",
   "metadata": {},
   "source": [
    "It is also possible to define new variables inside the loop, but remember that the value of any variables defined inside a loop is reset with each iteration cycle:"
   ]
  },
  {
   "cell_type": "code",
   "execution_count": null,
   "id": "68824bdd",
   "metadata": {},
   "outputs": [],
   "source": [
    "numbers = [3, 5, 6.3, 9, 15, 3.4]\n",
    "counter = 0\n",
    "\n",
    "for item in numbers:\n",
    "    new_value = item * 2\n",
    "\n",
    "    # Display the item to see the results:\n",
    "    print('Iteration number', counter, ':', item, '* 2 =', new_value)\n",
    "\n",
    "    counter += 1"
   ]
  },
  {
   "cell_type": "markdown",
   "id": "c9a83248",
   "metadata": {
    "lines_to_next_cell": 0
   },
   "source": [
    "::::::::::::::::::::::::::::::::::::\n",
    "::::::::::::::::::::::::::::::: challenge\n",
    "\n",
    "## Practice Exercise 2\n",
    "\n",
    "Write a ```for```-loop to display the values of a ```tuple``` defined as:"
   ]
  },
  {
   "cell_type": "code",
   "execution_count": null,
   "id": "c69365a5",
   "metadata": {},
   "outputs": [],
   "source": [
    "protein_kinases = ('PKA', 'PKC', 'MPAK', 'GSK3', 'CK1')"
   ]
  },
  {
   "cell_type": "markdown",
   "id": "9e9b5af8",
   "metadata": {},
   "source": [
    "such that each protein is displayed on a new line and follows the phrase ```Protein Kinase X:``` as in\n",
    "\n",
    "```\n",
    "Protein Kinase 1: PKA\n",
    "Protein Kinase 2: PKC\n",
    "```\n",
    "\n",
    "and so on.\n",
    "\n",
    "::::::::::::::::: solution\n",
    "## ANSWER"
   ]
  },
  {
   "cell_type": "code",
   "execution_count": null,
   "id": "479bd17d",
   "metadata": {},
   "outputs": [],
   "source": [
    "counter = 1\n",
    "\n",
    "for protein in protein_kinases:\n",
    "    print('Protein Kinase ', counter, ': ', protein, sep='')\n",
    "    counter += 1"
   ]
  },
  {
   "cell_type": "markdown",
   "id": "02e2bb3b",
   "metadata": {},
   "source": [
    ":::::::::::::::::\n",
    "\n",
    ":::::::::::::::::::::::::::::::\n",
    "\n",
    "### **Retaining the new values**\n",
    "<p style='text-align: justify;'>\n",
    "It is nice to be able to manipulate and display the values of an array but in the majority of cases, we need to retain the new values and use them later.\n",
    "</p>\n",
    "\n",
    "In such cases, we have two options:\n",
    "\n",
    "  - Create a new array to store our values.\n",
    "  - Replace the existing values with the new ones by overwriting them in the same array.\n",
    "\n",
    "<p style='text-align: justify;'>\n",
    "Creating a new array to store our values is very easy. We must firstly create a new ```list``` and add values to it with each iteration. In other words, we start off by creating an empty ```list```; to which we then iteratively add members using the <kbd>.append()</kbd> method inside our <kbd>for</kbd>-loop. The process of creating a new ```list``` and using the <kbd>.append()</kbd> method to values to an existing ```list``` are discussed in [Useful Methods](04-arrays.Rmd#subsubsec:list:usefulMethodsForList) and [mutability](04-arrays.Rmd#subsubsec:list:mutability), respectively.\n",
    "</p>"
   ]
  },
  {
   "cell_type": "code",
   "execution_count": null,
   "id": "f0dc0e22",
   "metadata": {
    "lines_to_next_cell": 2
   },
   "outputs": [],
   "source": [
    "numbers = [-4, 0, 0.3, 5]\n",
    "new_numbers = list()\n",
    "\n",
    "for value in numbers:\n",
    "    squared = value ** 2\n",
    "    new_numbers.append(squared)\n",
    "\n",
    "print('numbers:', numbers)\n",
    "print('new_numbers:', new_numbers)"
   ]
  },
  {
   "cell_type": "markdown",
   "id": "3e320ed4",
   "metadata": {},
   "source": [
    "::::::::::::::::::::::::::::::: challenge\n",
    "\n",
    "## Practice Exercise 3\n",
    "\n",
    "Given:"
   ]
  },
  {
   "cell_type": "code",
   "execution_count": null,
   "id": "2bbfaa44",
   "metadata": {
    "lines_to_next_cell": 0
   },
   "outputs": [],
   "source": [
    "peptides = [\n",
    "    'GYSAR',\n",
    "    'HILNEKRILQAID',\n",
    "    'DNSYLY'\n",
    "\t\t]"
   ]
  },
  {
   "cell_type": "markdown",
   "id": "ba81a925",
   "metadata": {},
   "source": [
    "write a ```for```-loop in which you determine the length of each sequence in <span style=\"color: rgb(32, 121, 77);\">peptides</span>, and then store the results as a ```list``` of ```tuple``` items as follows:\n",
    "\n",
    "```\n",
    "[('SEQUENCE_1', X), ('SEQUENCE_2', X), ...]\n",
    "```\n",
    "\n",
    "::::::::::::::::: solution\n",
    "\n",
    "## ANSWER"
   ]
  },
  {
   "cell_type": "code",
   "execution_count": null,
   "id": "31b042cf",
   "metadata": {},
   "outputs": [],
   "source": [
    "peptides_with_length = list()\n",
    "\n",
    "for sequence in peptides:\n",
    "    length = len(sequence)\n",
    "    item = (sequence, length)\n",
    "\n",
    "    peptides_with_length.append(item)"
   ]
  },
  {
   "cell_type": "markdown",
   "id": "d13ded96",
   "metadata": {},
   "source": [
    ":::::::::::::::::\n",
    "\n",
    ":::::::::::::::::::::::::::::::\n",
    "\n",
    "The replacement method uses a slightly different approach. Essentially, what we are trying to achieve is:"
   ]
  },
  {
   "cell_type": "markdown",
   "id": "ba5d1f3b",
   "metadata": {},
   "source": [
    "  - Read the value of an item in an array;\n",
    "  - Manipulate the value via operations;\n",
    "  - Return the value back into the original array through *item assignment*, thereby replacing the existing value.\n",
    "\n",
    "<p style='text-align: justify;'>\n",
    "We learned about modifying an existing value in a ```list``` in our discussion of [mutability](04-arrays.Rmd#subsubsec:list:mutability), where we discussed the concept of *item assignment*. The process of replacing the original values of an array in a <kbd>for</kbd>-loop is identical. An important point to be aware of, however, is that we make use of the correct *index* for the specific item in the array that we are trying to modify. Additionally, don't forget that *item assignment* is only possible in mutable arrays such as ```list```. See [Table](02-input_output.Rmd#fig:nativeTypes) to see which types of array are mutable in Python.\n",
    "</p>\n",
    "\n",
    "<p style='text-align: justify;'>\n",
    "To perform *item assignment*; we can use a variable to represent the current iteration cycle in our <kbd>for</kbd>-loop. We do so by initialising the variable with a value of 0, and adding 1 to its value at the end of each cycle. We can then use that variable as an *index* in each iteration cycle:\n",
    "</p>"
   ]
  },
  {
   "cell_type": "code",
   "execution_count": null,
   "id": "1b2c5df6",
   "metadata": {},
   "outputs": [],
   "source": [
    "numbers = [-4, 0, 0.5, 5]\n",
    "\n",
    "# Variable representing the\n",
    "# index (iteration cycle):\n",
    "index = 0\n",
    "\n",
    "for value in numbers:\n",
    "    new_value = value ** 5\n",
    "\n",
    "    # Putting it back into\n",
    "    # the original array:\n",
    "    numbers[index] = new_value\n",
    "\n",
    "    # Adding one to the index for\n",
    "    # the next iteration cycle:\n",
    "    index += 1\n",
    "\n",
    "print(numbers)"
   ]
  },
  {
   "cell_type": "markdown",
   "id": "47ad4763",
   "metadata": {},
   "source": [
    ":::::::::::::::::::::::::::::::::::: callout\n",
    "## Advanced Topic\n",
    "<p style='text-align: justify;'>\n",
    "The ```enumerate()``` function actually returns a *generator* of ```tuple``` items each time it is called in the context of a ```for```-loop. A generator is, in principle, similar to a normal array; however, unlike an array, the values of a generator are not evaluated by the computer until the exact time at which they are going to be used. This is an important technique in functional programming known as *lazy evaluation*. It is primarily utilised to reduce the workload on the computer (both the processor and the memory) by preventing the execution of processes that could otherwise be delayed to a later time. In the case of the ```enumerate()``` function, the values are evaluated at the beginning of each iteration cycle in a ```for```-loop. Learn more about lazy evaluation in [Wikipedia](https://en.wikipedia.org/wiki/Lazy_evaluation) or read more on generators in Python in the [official documentations](https://docs.python.org/3/howto/functional.html\\#generators).\n",
    "</p>\n",
    "\n",
    "::::::::::::::::::::::::::::::::::::\n",
    "\n",
    "<p style='text-align: justify;'>\n",
    "This is a perfectly valid approach and it is used in many programming languages. However, Python makes this process even easier by introducing the function <kbd>enumerate()</kbd>. We often use this function at the initiation of a <kbd>for</kbd>-loop. The function takes an array as an input and as the name suggests, enumerates them; thereby simplifying the indexing process. The previous example may, therefore, be written more concisely in Python, as follows:\n",
    "</p>"
   ]
  },
  {
   "cell_type": "code",
   "execution_count": null,
   "id": "0f96747c",
   "metadata": {},
   "outputs": [],
   "source": [
    "numbers = [-4, 0, 0.5, 5]\n",
    "\n",
    "for index, value in enumerate(numbers):\n",
    "    # Manipulating the value:\n",
    "    new_value = value ** 5\n",
    "    numbers[index] = new_value\n",
    "\n",
    "print(numbers)"
   ]
  },
  {
   "cell_type": "markdown",
   "id": "70a3eaab",
   "metadata": {
    "lines_to_next_cell": 0
   },
   "source": [
    "::::::::::::::::::::::::::::::: challenge\n",
    "\n",
    "## Practice Exercise 4 {#diy:loops:for:enumerate}\n",
    "\n",
    "Given:"
   ]
  },
  {
   "cell_type": "code",
   "execution_count": null,
   "id": "db98a7b4",
   "metadata": {
    "lines_to_next_cell": 0
   },
   "outputs": [],
   "source": [
    "characters = ['1', '2', '3', '4']"
   ]
  },
  {
   "cell_type": "markdown",
   "id": "9515b844",
   "metadata": {
    "lines_to_next_cell": 0
   },
   "source": [
    "Display each item in <span style=\"color: rgb(32, 121, 77);\">characters</span> as many times in one line as the index of that item in <span style=\"color: rgb(32, 121, 77);\">characters</span>. The results should appear as follows:\n",
    "\n",
    "```\n",
    "2\n",
    "33\n",
    "444\n",
    "```\n",
    "::::::::::::::::: solution\n",
    "\n",
    "## ANSWER"
   ]
  },
  {
   "cell_type": "code",
   "execution_count": null,
   "id": "dc76f483",
   "metadata": {},
   "outputs": [],
   "source": [
    "for index, item in enumerate(characters):\n",
    "    print(item * index)"
   ]
  },
  {
   "cell_type": "markdown",
   "id": "465c815e",
   "metadata": {},
   "source": [
    ":::::::::::::::::\n",
    "\n",
    ":::::::::::::::::::::::::::::::\n",
    "\n",
    "### **for-loop and conditional statements** {#subsubsec:loops:for:conditionalStatements}\n",
    "We can use conditional statements within <kbd>for</kbd>-loops to account for and handle different situations.\n",
    "\n",
    "Suppose we want to find the smallest value (the minimum) within a ```list``` of numbers using a <kbd>for</kbd>-loop. The workflow of this process is displayed as a flowchart diagram in [figure below](#flowchart5-2-2).\n",
    "\n",
    "![](fig/flowchart5-2-2.png){#flowchart5-2-2}\n",
    "\n",
    "Given an array, we can break down the problem as follows:"
   ]
  },
  {
   "cell_type": "markdown",
   "id": "6977299b",
   "metadata": {},
   "source": [
    "![](fig/instructions1.png)\n",
    "\n",
    "Finally, we can implement the process displayed in [figure](#flowchart5-2-2) as follows:"
   ]
  },
  {
   "cell_type": "code",
   "execution_count": null,
   "id": "5b591bc3",
   "metadata": {},
   "outputs": [],
   "source": [
    "numbers = [7, 16, 0.3, 0, 15, -4, 5, 3, 15]\n",
    "\n",
    "minimum = numbers[0]\n",
    "\n",
    "for value in numbers:\n",
    "    if value < minimum:\n",
    "        minimum = value\n",
    "\n",
    "print('The minimum value is:', minimum)"
   ]
  },
  {
   "cell_type": "markdown",
   "id": "7b9fd0d9",
   "metadata": {
    "lines_to_next_cell": 0
   },
   "source": [
    "::::::::::::::::::::::::::::::: challenge\n",
    "\n",
    "## Practice Exercise 5\n",
    "Given:"
   ]
  },
  {
   "cell_type": "code",
   "execution_count": null,
   "id": "374e0868",
   "metadata": {
    "lines_to_next_cell": 0
   },
   "outputs": [],
   "source": [
    "peptides = [\n",
    "  'FAEKE',\n",
    "  'CDYSK',\n",
    "  'ATAMGNAPAKKDT',\n",
    "  'YSFQW',\n",
    "  'KRFGNLR',\n",
    "  'EKKVEAPF',\n",
    "  'GMGSFGRVML',\n",
    "  'YSFQMGSFGRW',\n",
    "  'YSFQMGSFGRW'\n",
    "\t\t]"
   ]
  },
  {
   "cell_type": "markdown",
   "id": "c043c186",
   "metadata": {},
   "source": [
    "Using a ```for```-loop and a conditional statement, find and display the sequences in <span style=\"color: rgb(32, 121, 77);\">peptides</span> that contain the amino acid serine (<span style=\"color: rgb(32, 121, 77);\">S</span>) in the following format:\n",
    "\n",
    "```\n",
    "Found S in XXXXX.\n",
    "```\n",
    "::::::::::::::::: solution\n",
    "\n",
    "## ANSWER"
   ]
  },
  {
   "cell_type": "code",
   "execution_count": null,
   "id": "7253dfe6",
   "metadata": {
    "lines_to_next_cell": 0
   },
   "outputs": [],
   "source": [
    "target = 'S'\n",
    "\n",
    "for sequence in peptides:\n",
    "    if target in sequence:\n",
    "        print('Found', target, 'in', sequence)"
   ]
  },
  {
   "cell_type": "markdown",
   "id": "e243e6b3",
   "metadata": {},
   "source": [
    ":::::::::::::::::\n",
    "\n",
    ":::::::::::::::::::::::::::::::\n",
    "\n",
    "### **Sequence of numbers in for-loops** {#subsec:iter:for:range}\n",
    "<p style='text-align: justify;'>\n",
    "In order to produce a sequence of ```int``` numbers for use in a <kbd>for</kbd>-loop, we can use the built-in <kbd>range()</kbd> function. The function takes in three positional arguments representing *start*, *stop*, and *step*. Note that <kbd>range()</kbd> is *only* capable of producing a sequence of integer numbers.\n",
    "</p>\n",
    "\n",
    ":::::::::::::::::::::::::::::::::::: callout\n",
    "## Remember\n",
    "The <kbd>range()</kbd> function does not create the sequence of numbers immediately. Rather, it behaves in a similar way to the <kbd>enumerate()</kbd> function does (as a generator).\n",
    "\n",
    "::::::::::::::::::::::::::::::::::::\n",
    "\n",
    "Displaying the output of the <kbd>range()</kbd> function is not an array of numbers, as you might expect:"
   ]
  },
  {
   "cell_type": "code",
   "execution_count": null,
   "id": "c3afeb0d",
   "metadata": {
    "lines_to_next_cell": 2
   },
   "outputs": [],
   "source": [
    "range_generator = range(0, 10, 2)\n",
    "\n",
    "print(range_generator)"
   ]
  },
  {
   "cell_type": "markdown",
   "id": "645f5e6a",
   "metadata": {},
   "source": [
    "It is, however, possible to evaluate the values outside of a <kbd>for</kbd>-loop. To do so, we need to convert the output of the function to ```list``` or a ```tuple```:"
   ]
  },
  {
   "cell_type": "code",
   "execution_count": null,
   "id": "6d1b6e2c",
   "metadata": {},
   "outputs": [],
   "source": [
    "range_sequence = list(range_generator)\n",
    "\n",
    "print(range_sequence)"
   ]
  },
  {
   "cell_type": "markdown",
   "id": "3efc594c",
   "metadata": {},
   "source": [
    ":::::::::::::::::::::::::::::::::::: callout\n",
    "## Remember\n",
    "<p style='text-align: justify;'>\n",
    "The <kbd>range()</kbd> function is *non-inclusive*. That is, it creates a sequence that starts from and includes the value given as the *start* argument, up to but *excluding* the value of the *end* argument. For instance, ```range```(1, 5, 1) creates a sequence starting from <span style=\"color: rgb(32, 121, 77);\">1</span>, which is then incremented <span style=\"color: rgb(32, 121, 77);\">1</span> step at a time right up to <span style=\"color: rgb(32, 121, 77);\">5</span>, resulting in a sequence that includes the following numbers: <span style=\"color: rgb(32, 121, 77);\">1, 2, 3, 4</span>\n",
    "</p>\n",
    "\n",
    "::::::::::::::::::::::::::::::::::::\n",
    "\n",
    ":::::::::::::::::::::::::::::::::::: discussion\n",
    "\n",
    "## Example: Sequence comparison, dot plots and ```for``` loops{#bigexam}\n",
    "![](fig/example.5.2.2.png){#example}\n",
    "![](fig/dot_matrices.png){#dot}\n",
    "![](fig/dot_matrix_implementation.png){#dotImp}\n",
    "![](fig/flowchart2.png)\n",
    "![](fig/visualisation.png)\n",
    "![](fig/plot.png)\n",
    "\n",
    "::::::::::::::::::::::::::::::::::::\n",
    "\n",
    "## while-loops\n",
    "\n",
    "<p style='text-align: justify;'>\n",
    "In our discussion of ```for``` loop mediated iterations above, we learned that they are *exclusively* applied to iterable objects --- such as arrays and sequences. This is because, as demonstrated in [workflow figure](#flowchart), at the end of each iteration, the *implicit* termination condition that is inherent in the process tests whether or not the end of the sequence being iterating through, has been reached.\n",
    "</p>\n",
    "\n",
    "<p style='text-align: justify;'>\n",
    "It may, however, be deemed necessary to apply iterative processes based on conditions other than those embedded within the ```for```-loop. In such cases, we use a different class of iterations known as a ```while```-loop.\n",
    "</p>"
   ]
  },
  {
   "cell_type": "markdown",
   "id": "79b1fb34",
   "metadata": {},
   "source": [
    "![](fig/remember.png)\n",
    "\n",
    "Consider the following:\n",
    "\n",
    ">We want to ask a user to enter a sequence of exactly five amino acids in single-letter code. If the provided sequence is more or less than five letters long, we would like to display a message and ask them to try again; otherwise, we will display the process and terminate the program."
   ]
  },
  {
   "cell_type": "markdown",
   "id": "36a2fe08",
   "metadata": {},
   "source": [
    "<p style='text-align: justify;'>\n",
    "It is impossible to write such a process using a ```for```-loop. This is because when we initialise the iteration process in a ```for```-loop, the number of loops we need is unknown. In other words, we simply do not know how many times the user would need enter said sequence before they get it right.\n",
    "</p>\n",
    "\n",
    "![](fig/flowchart3.png){#flowchart3}\n",
    "\n",
    "<p style='text-align: justify;'>\n",
    "To simplify the understanding of the concept, we can visualise the process in a flowchart, as displayed in [figure](#flowchart3). In this flowchart, you can see that the only way to exit the loop is to enter a sequence of exactly five characters. Doing anything else --- such as entering a different number of letters -- is equivalent to going back to the beginning of the loop. The process may be described verbally as follows:\n",
    "</p>\n",
    "\n",
    "1.  Initialise the variable <span style=\"color: rgb(32, 121, 77);\">sequence</span> and assign an empty string to it.\n",
    "\n",
    "2. *While* the length of <span style=\"color: rgb(32, 121, 77);\">sequence</span> is not equal to 5:\n",
    "\n",
    "   - Ask the user to enter a new <span style=\"color: rgb(32, 121, 77);\">sequence</span>.\n",
    "   - Go back to step <span style=\"color: rgb(32, 121, 77);\">\\#2</span>.\n",
    "\n",
    "3. Display the value of <span style=\"color: rgb(32, 121, 77);\">sequence</span>."
   ]
  },
  {
   "cell_type": "markdown",
   "id": "6e3f2685",
   "metadata": {},
   "source": [
    "### **Implementation**\n",
    "We instantiate ```while```-loop using the <kbd>while</kbd> syntax, immediately followed by the loop condition.\n",
    "\n",
    "We can now implement the process displayed in [figure](#flowchart3) as follows:\n",
    "\n",
    "```\n",
    "sequence = str()\n",
    "\n",
    "while len(sequence) != 5:\n",
    "    sequence = input('Enter a sequence of exactly 5 amino acids: ')\n",
    "\n",
    "print(sequence)\n",
    "```\n",
    "\n",
    "When executed, the above code will prompt the user to enter a value:\n",
    "\n",
    "```\n",
    "Enter a sequence of exactly 5 amino acids: GCGLLY\n",
    "Enter a sequence of exactly 5 amino acids: GCGL\n",
    "Enter a sequence of exactly 5 amino acids: GC\n",
    "Enter a sequence of exactly 5 amino acids: GCGLL\n",
    "\n",
    "GCGLL\n",
    "```\n",
    "\n",
    "As expected, the user is repetitively asked to enter a five-character sequence until they supply the correct number of letters."
   ]
  },
  {
   "cell_type": "markdown",
   "id": "5e03e8fb",
   "metadata": {
    "lines_to_next_cell": 0
   },
   "source": [
    "::::::::::::::::::::::::::::::: challenge\n",
    "## Practice Exercise 6\n",
    "\n",
    "1. Write a script which prompts the user to enter a number, then:\n",
    "\n",
    "   - If the second power of the number is smaller than <span style=\"color: rgb(32, 121, 77);\">10</span>, repeat the process and ask again;\n",
    "   - If the second power of the number is equal or greater than <span style=\"color: rgb(32, 121, 77);\">10</span>, display the original value and terminate the program.\n",
    "\n",
    "**Hint:** Don't forget to [convert](#sec:conversionType) the value entered by the user to an appropriate numeric type *before* you perform any mathematical operations.\n",
    "<p style='text-align: justify;'>\n",
    "2. We learned in subsection [Sequence of Numbers](#subsec:iter:for:range) that the built-in function <kbd>range()</kbd> may be utilised to produce a sequence of *integer* numbers. The function takes 3 input arguments in the following order: <span style=\"color: rgb(32, 121, 77);\">stop, start, step</span>.\n",
    "</p>\n",
    "\n",
    "We now need a sequence of floating-point numbers with the following criteria:\n",
    "\n",
    "```\n",
    "stop = 10\n",
    "start = 0\n",
    "step = 0.5\n",
    "```\n",
    "<p style='text-align: justify;'>\n",
    "The use of a floating-point number as <span style=\"color: rgb(32, 121, 77);\">step</span> means that we cannot use <kbd>range()</kbd> to create the desired sequence. Write a script in which you use a ```while```-loop to produce a sequence of floating-point numbers with the above criteria and display the result.\n",
    "</p>\n",
    "The resulting sequence must be:\n",
    "\n",
    "   - Presented as an instance of type ```list```;\n",
    "   - Similar to <kbd>range()</kbd>, the sequence must be non-inclusive --- *i.e.* it must include the value of <span style=\"color: rgb(32, 121, 77);\">start</span>, but not that of <span style=\"color: rgb(32, 121, 77);\">stop</span>.\n",
    "\n",
    "::::::::::::::::: solution\n",
    "\n",
    "## Q1\n",
    "\n",
    "```\n",
    "value = 0\n",
    "\n",
    "while value ** 2 < 10:\n",
    "    response = input('Enter a number: ')\n",
    "    value = float(response)\n",
    "\n",
    "print(value)\n",
    "```\n",
    ":::::::::::::::::\n",
    "\n",
    "::::::::::::::::: solution\n",
    "\n",
    "## Q2"
   ]
  },
  {
   "cell_type": "code",
   "execution_count": null,
   "id": "ee8e25cb",
   "metadata": {},
   "outputs": [],
   "source": [
    "stop = 10\n",
    "start = 0\n",
    "step = 0.5\n",
    "\n",
    "number = start\n",
    "sequence = list()\n",
    "\n",
    "while number < stop:\n",
    "    sequence.append(number)\n",
    "    number += step\n",
    "\n",
    "print(sequence)"
   ]
  },
  {
   "cell_type": "markdown",
   "id": "629a7008",
   "metadata": {
    "lines_to_next_cell": 0
   },
   "source": [
    ":::::::::::::::::\n",
    "\n",
    "::::::::::::::::: solution\n",
    "\n",
    "## Q2 - Smart Solution"
   ]
  },
  {
   "cell_type": "code",
   "execution_count": null,
   "id": "975d643b",
   "metadata": {},
   "outputs": [],
   "source": [
    "# A smarter solution, however, would be:\n",
    "stop = 10\n",
    "start = 0\n",
    "step = 0.5\n",
    "\n",
    "sequence = [start]\n",
    "\n",
    "while sequence[-1] < stop - step:\n",
    "    sequence.append(sequence[-1] + step)\n",
    "\n",
    "print(sequence)\n"
   ]
  },
  {
   "cell_type": "markdown",
   "id": "8946e102",
   "metadata": {},
   "source": [
    ":::::::::::::::::\n",
    ":::::::::::::::::::::::::::::::\n",
    "\n",
    "### **Breaking a while-loop**\n",
    "\n",
    "Unlike ```for```-loops, it is common to *break* out of a ```while```-loop, mid-process. This is also known as *premature termination*.\n",
    "\n",
    "To consider a situation that may necessitate such an approach, we shall modify our scenario as follows:\n",
    "\n",
    "<p style='text-align: justify;'>\n",
    ">We want to ask the user to enter a sequence of exactly five amino acids. If the sequence the user provides is more or less than five letters long, we would like to display a message and ask them to try again; otherwise, we will display the sequence and terminate the program. Additionally, the loop should be terminated:\n",
    "   - upon three failed attempts; or,\n",
    "   - if the user enters the word <span style=\"color: rgb(32, 121, 77);\">exit</span> instead of a five-character sequence.\n",
    "\n",
    "</p>\n",
    "In the former case, however, we would also like to display a message and inform the user that we are terminating the programme because of three failed attempts.\n",
    "\n",
    "To implement the first addition to our code, we will have to make the following alterations in our code:\n",
    "\n",
    "   - Define a variable to hold the iteration cycle, then test its value at the beginning of each cycle to ensure that it is below the designated threshold. Otherwise, we manually terminate the loop using the <kbd>break</kbd> syntax.\n",
    "\n",
    "   - Create a [conjunctive](#disjun) conditional statement for the ```while```-loop to make, so that it is also sensitive to our <span style=\"color: rgb(32, 121, 77);\">exit</span> keyword."
   ]
  },
  {
   "cell_type": "markdown",
   "id": "d1500765",
   "metadata": {},
   "source": [
    "```\n",
    "sequence = str()\n",
    "counter = 1\n",
    "max_counter = 3\n",
    "exit_keyword = 'exit'\n",
    "\n",
    "while len(sequence) != 5 and sequence != exit_keyword:\n",
    "    if counter == max_counter:\n",
    "        sequence = \"Three failed attempt - I'm done.\"\n",
    "        break\n",
    "\n",
    "    sequence = input('Enter a sequence of exactly 5 amino acids or [exit]: ')\n",
    "\n",
    "    counter += 1\n",
    "\n",
    "print(sequence)\n",
    "```\n",
    "\n",
    "## Exercises\n",
    ":::::::::::::::::::::::::::::::::::::::: challenge\n",
    "\n",
    "### End of chapter Exercises\n",
    "\n",
    "1. Can you explain the reason why, in the example given in subsection [for-loop and conditional statements](#subsubsec:loops:for:conditionalStatements) we set <span style=\"color: rgb(32, 121, 77);\">minimum</span> to be equal to the first value of our array instead of, for instance, zero or some other number?\n",
    "\n",
    "Store your answer in a variable and display it using <kbd>print()</kbd>.\n",
    "\n",
    "2. Write a script that using a <kbd>for</kbd>-loop, calculates the sum of all numbers in an array defined as follows:\n",
    "\n",
    "```\n",
    "numbers = [0, -2.1, 1.5, 3]\n",
    "```\n",
    "\n",
    "and display the result as:\n",
    "\n",
    "```\n",
    "Sum of the numbers in the array is 2.4\n",
    "```\n",
    "3. Given an array of integer values as:\n",
    "\n",
    "```\n",
    "numbers = [2, 1, 3]\n",
    "```\n",
    "\n",
    "write a script using <kbd>for</kbd>-loops, and display each number in the list as many times as the number itself. The program must therefore display '2' twice, '1' once, and '3' three times.\n",
    "\n",
    "4.  Given a ```list``` of numbers defined as:\n",
    "\n",
    "```\n",
    "numbers = [7, 16, 0.3, 0, 15, -4, 5, 3, 15]\n",
    "```\n",
    "\n",
    "write a script that using (at most) two <kbd>for</kbd>-loops, finds the *variance* of the numbers, and display the **mean**, and the **variance**. Note that you will need to calculate the *mean* as a part of your calculations to find the *variance*.\n",
    "\n",
    "The equation for calculating variance is:\n",
    "\n",
    "$$\\sigma^2 = \\frac{\\sum^{n}_{i=1}(x_i - \\mu)^2}{n}$$\n",
    "\n",
    "**Hint:** *Breaking down the problem into smaller pieces will simplify the process of translating it into code and thereby solving it:*\n",
    "\n",
    "(a) Work out the Mean or $\\mu$ (the simple average of the numbers):\n",
    "$$ \\mu = \\frac{\\sum^{n}_{i=1} x_i}{n}$$\n",
    "(b) Calculate the sum of: each number ($x_i$) subtracted by the Mean ($\\mu$) and square the result.\n",
    "\n",
    "(c) Divide the resulting number by the length of <span style=\"color: rgb(32, 121, 77);\">number</span>."
   ]
  },
  {
   "cell_type": "markdown",
   "id": "4e6e0659",
   "metadata": {},
   "source": [
    "Display the results in the following format:\n",
    "\n",
    "```\n",
    "Mean: XXXX\n",
    "Variance: XXXX\n",
    "```\n",
    "\n",
    "::::::::::::::::::::: solution\n",
    "\n",
    "## Solutions will be provided once the submitted assignments are marked and returned.\n",
    "\n",
    ":::::::::::::::::::::\n",
    "::::::::::::::::::::::::::::::::::::::::"
   ]
  },
  {
   "cell_type": "markdown",
   "id": "73c7320f",
   "metadata": {},
   "source": [
    "::::::::::::::::::::::::::::::::::::: keypoints\n",
    "\n",
    "- Iterations and loops are used to perform repetitive operations.\n",
    "- Implementation of ```for```-loops involves four steps.\n",
    "- Conditional statements are used within loops to handle different situations.\n",
    "- ```while```-loops are most suitable when an exact number of conditions/iterations is unknown.\n",
    "\n",
    "::::::::::::::::::::::::::::::::::::::::::::::::\n",
    "\n"
   ]
  },
  {
   "cell_type": "markdown",
   "id": "c23ad783",
   "metadata": {},
   "source": [
    "[r-markdown]: https://rmarkdown.rstudio.com/"
   ]
  }
 ],
 "metadata": {
  "jupytext": {
   "cell_metadata_filter": "-all",
   "main_language": "python",
   "notebook_metadata_filter": "-all"
  }
 },
 "nbformat": 4,
 "nbformat_minor": 5
}
